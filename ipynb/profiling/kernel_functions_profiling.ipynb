{
 "cells": [
  {
   "cell_type": "markdown",
   "metadata": {},
   "source": [
    "<font size=\"9\">Kernel Functions Profiling</font><br>\n",
    "<hr>"
   ]
  },
  {
   "cell_type": "code",
   "execution_count": 1,
   "metadata": {
    "collapsed": true
   },
   "outputs": [],
   "source": [
    "import logging\n",
    "reload(logging)\n",
    "logging.basicConfig(\n",
    "    format='%(asctime)-9s %(levelname)-8s: %(message)s',\n",
    "    datefmt='%I:%M:%S')\n",
    "\n",
    "# Enable logging at INFO level\n",
    "logging.getLogger().setLevel(logging.INFO)"
   ]
  },
  {
   "cell_type": "code",
   "execution_count": 2,
   "metadata": {
    "collapsed": false
   },
   "outputs": [
    {
     "name": "stdout",
     "output_type": "stream",
     "text": [
      "Populating the interactive namespace from numpy and matplotlib\n"
     ]
    }
   ],
   "source": [
    "# Generate plots inline\n",
    "%pylab inline\n",
    "\n",
    "import json\n",
    "import os\n",
    "\n",
    "import re\n",
    "import collections\n",
    "import pandas\n",
    "\n",
    "# Support to tests execution\n",
    "from executor import Executor"
   ]
  },
  {
   "cell_type": "markdown",
   "metadata": {},
   "source": [
    "# Tests configuration"
   ]
  },
  {
   "cell_type": "code",
   "execution_count": 3,
   "metadata": {
    "collapsed": true
   },
   "outputs": [],
   "source": [
    "# Setup a target configuration\n",
    "target_conf = {\n",
    "\n",
    "    # Platform and board to target\n",
    "    \"platform\"    : \"linux\",\n",
    "    \"board\"       : \"juno\",\n",
    "\n",
    "    # Login credentials\n",
    "    \"host\"        : \"192.168.0.1\",\n",
    "    \"username\"    : \"root\",\n",
    "    \"password\"    : \"\",\n",
    "\n",
    "    # Local installation path\n",
    "    \"tftp\"  : {\n",
    "        \"folder\"    : \"/var/lib/tftpboot\",\n",
    "        \"kernel\"    : \"kern.bin\",\n",
    "        \"dtb\"       : \"dtb.bin\",\n",
    "    },\n",
    "\n",
    "    # RTApp calibration values (comment to let LISA do a calibration run)\n",
    "    \"rtapp-calib\" :  {\n",
    "        \"0\": 358, \"1\": 138, \"2\": 138, \"3\": 357, \"4\": 359, \"5\": 355\n",
    "    },\n",
    "\n",
    "}\n",
    "\n",
    "tests_conf = {\n",
    "    \n",
    "    # Kernel functions to profile for all the test\n",
    "    # configurations which have the \"ftrace\" flag enabled\n",
    "    \"ftrace\"  : {\n",
    "         \"functions\" : [\n",
    "            \"select_task_rq_fair\",\n",
    "            \"enqueue_task_fair\",\n",
    "            \"dequeue_task_fair\",\n",
    "         ],\n",
    "         \"buffsize\" : 80 * 1024,\n",
    "    },\n",
    "    \n",
    "    # Platform configurations to test\n",
    "    \"confs\" : [\n",
    "        {\n",
    "            \"tag\"            : \"base\",\n",
    "            \"flags\"          : \"ftrace\",\n",
    "            \"sched_features\" : \"NO_ENERGY_AWARE\",\n",
    "            \"cpufreq\"        : {\n",
    "                \"governor\" : \"performance\",\n",
    "            },\n",
    "        },\n",
    "        {\n",
    "            \"tag\"            : \"eas\",\n",
    "            \"flags\"          : \"ftrace\",\n",
    "            \"sched_features\" : \"ENERGY_AWARE\",\n",
    "            \"cpufreq\"        : {\n",
    "                \"governor\" : \"performance\",\n",
    "            },\n",
    "        },\n",
    "    ],\n",
    "    \n",
    "    # Workloads to run (on each platform configuration)\n",
    "    \"wloads\" : {\n",
    "        \"rta\" : {\n",
    "            \"type\" : \"rt-app\",\n",
    "            \"conf\" : {\n",
    "                \"class\"  : \"profile\",\n",
    "                \"params\"  : {\n",
    "                    \"p20\" : {\n",
    "                        \"kind\"   : \"periodic\",\n",
    "                        \"params\" : {\n",
    "                            \"duty_cycle_pct\" : 20,\n",
    "                         },\n",
    "                        \"tasks\" : \"cpus\",\n",
    "                    },\n",
    "                },\n",
    "            },\n",
    "        },\n",
    "    },\n",
    "    \n",
    "    # Number of iterations for each configuration/workload pair\n",
    "    \"iterations\" : 3,\n",
    "    \n",
    "    # Tools to deploy\n",
    "    \"tools\" : [ \"rt-app\", 'trace-cmd' ],\n",
    "    \n",
    "    # Where results are collected\n",
    "    # NOTE: this folder will be wiped before running the experiments\n",
    "    \"results_dir\" : \"KernelFunctionsProfilingExample\",\n",
    "\n",
    "    # Modules required by these experiments\n",
    "    \"exclude_modules\" : [ \"hwmon\" ],\n",
    "\n",
    "}"
   ]
  },
  {
   "cell_type": "code",
   "execution_count": 4,
   "metadata": {
    "collapsed": false
   },
   "outputs": [
    {
     "name": "stderr",
     "output_type": "stream",
     "text": [
      "03:43:22  INFO    :         Target - Loading custom (inline) test configuration\n",
      "03:43:22  INFO    :         Target - Using base path: /home/derkling/Code/lisa\n",
      "03:43:22  INFO    :         Target - Loading custom (inline) target configuration\n",
      "03:43:22  INFO    :         Target - Loading custom (inline) test configuration\n",
      "03:43:22  INFO    :         Target - Devlib modules to load: ['bl', 'cpufreq']\n",
      "03:43:22  INFO    :         Target - Connecting linux target:\n",
      "03:43:22  INFO    :         Target -   username : root\n",
      "03:43:22  INFO    :         Target -       host : 192.168.0.1\n",
      "03:43:22  INFO    :         Target -   password : \n",
      "03:43:26  INFO    :         Target - Initializing target workdir:\n",
      "03:43:26  INFO    :         Target -    /root/devlib-target\n",
      "03:43:34  INFO    :         Target - Topology:\n",
      "03:43:34  INFO    :         Target -    [[0, 3, 4, 5], [1, 2]]\n",
      "03:43:36  INFO    :       Platform - Loading default EM:\n",
      "03:43:36  INFO    :       Platform -    /home/derkling/Code/lisa/libs/utils/platforms/juno.json\n",
      "03:43:38  INFO    :         FTrace - Enabled tracepoints:\n",
      "03:43:38  INFO    :         FTrace -   sched:*\n",
      "03:43:38  INFO    :         FTrace - Kernel functions profiled:\n",
      "03:43:38  INFO    :         FTrace -   select_task_rq_fair\n",
      "03:43:38  INFO    :         FTrace -   enqueue_task_fair\n",
      "03:43:38  INFO    :         FTrace -   dequeue_task_fair\n",
      "03:43:38  INFO    :    EnergyMeter - HWMON module not enabled\n",
      "03:43:38  WARNING :    EnergyMeter - Energy sampling disabled by configuration\n",
      "03:43:38  WARNING :         Target - Using configuration provided RTApp calibration\n",
      "03:43:38  INFO    :         Target - Using RT-App calibration values:\n",
      "03:43:38  INFO    :         Target -    {\"0\": 358, \"1\": 138, \"2\": 138, \"3\": 357, \"4\": 359, \"5\": 355}\n",
      "03:43:38  WARNING :        TestEnv - Wipe previous contents of the results folder:\n",
      "03:43:38  WARNING :        TestEnv -    /home/derkling/Code/lisa/results/KernelFunctionsProfilingExample\n",
      "03:43:38  INFO    :        TestEnv - Set results folder to:\n",
      "03:43:38  INFO    :        TestEnv -    /home/derkling/Code/lisa/results/KernelFunctionsProfilingExample\n",
      "03:43:38  INFO    :        TestEnv - Experiment results available also in:\n",
      "03:43:38  INFO    :        TestEnv -    /home/derkling/Code/lisa/results_latest\n",
      "03:43:38  INFO    : \n",
      "03:43:38  INFO    : ################################################################################\n",
      "03:43:38  INFO    :       Executor - Experiments configuration\n",
      "03:43:38  INFO    : ################################################################################\n",
      "03:43:38  INFO    :       Executor - Configured to run:\n",
      "03:43:38  INFO    :       Executor -     2 targt configurations:\n",
      "03:43:38  INFO    :       Executor -       base, eas\n",
      "03:43:38  INFO    :       Executor -     1 workloads (3 iterations each)\n",
      "03:43:38  INFO    :       Executor -       rta\n",
      "03:43:38  INFO    :       Executor - Total: 6 experiments\n",
      "03:43:38  INFO    :       Executor - Results will be collected under:\n",
      "03:43:38  INFO    :       Executor -       /home/derkling/Code/lisa/results/KernelFunctionsProfilingExample\n"
     ]
    }
   ],
   "source": [
    "# Setup tests executions based on our configuration\n",
    "executor = Executor(target_conf, tests_conf)"
   ]
  },
  {
   "cell_type": "markdown",
   "metadata": {},
   "source": [
    "# Tests execution"
   ]
  },
  {
   "cell_type": "code",
   "execution_count": 5,
   "metadata": {
    "collapsed": false,
    "scrolled": false
   },
   "outputs": [
    {
     "name": "stderr",
     "output_type": "stream",
     "text": [
      "03:43:38  INFO    : \n",
      "03:43:38  INFO    : ################################################################################\n",
      "03:43:38  INFO    :       Executor - Experiments execution\n",
      "03:43:38  INFO    : ################################################################################\n",
      "03:43:38  INFO    : \n",
      "03:43:38  INFO    : ================================================================================\n",
      "03:43:38  INFO    :   TargetConfig - configuring target for [base] experiments\n",
      "03:43:39  INFO    :  SchedFeatures - Set scheduler feature: NO_ENERGY_AWARE\n",
      "03:43:39  INFO    :        CPUFreq - Configuring all CPUs to use [performance] governor\n",
      "03:43:40  INFO    :          WlGen - Setup new workload rta\n",
      "03:43:40  INFO    :          RTApp - Workload duration defined by longest task\n",
      "03:43:40  INFO    :          RTApp - Default policy: SCHED_OTHER\n",
      "03:43:40  INFO    :          RTApp - ------------------------\n",
      "03:43:40  INFO    :          RTApp - task [task_p20], sched: using default policy\n",
      "03:43:40  INFO    :          RTApp -  | calibration CPU: 1\n",
      "03:43:40  INFO    :          RTApp -  | loops count: 1\n",
      "03:43:40  INFO    :          RTApp - + phase_000001: duration 1.000000 [s] (10 loops)\n",
      "03:43:40  INFO    :          RTApp - |  period   100000 [us], duty_cycle  20 %\n",
      "03:43:40  INFO    :          RTApp - |  run_time  20000 [us], sleep_time  80000 [us]\n",
      "03:43:41  INFO    : ~~~~~~~~~~~~~~~~~~~~~~~~~~~~~~~~~~~~~~~~~~~~~~~~~~~~~~~~~~~~~~~~~~~~~~~~~~~~~~~~\n",
      "03:43:41  INFO    :       Executor - Experiment 1/6, [base:rta] 1/3\n",
      "03:43:41  WARNING :       Executor - FTrace events collection enabled\n",
      "03:43:46  INFO    :          WlGen - Workload execution START:\n",
      "03:43:46  INFO    :          WlGen -    /root/devlib-target/bin/rt-app /root/devlib-target/run_dir/rta_00.json\n",
      "03:43:51  INFO    :       Executor - Collected FTrace binary trace:\n",
      "03:43:51  INFO    :       Executor -    <res_dir>/rtapp:base:rta/1/trace.dat\n",
      "03:43:52  INFO    :       Executor - Collected FTrace function profiling:\n",
      "03:43:52  INFO    :       Executor -    <res_dir>/rtapp:base:rta/1/trace_stat.json\n",
      "03:43:52  INFO    : ~~~~~~~~~~~~~~~~~~~~~~~~~~~~~~~~~~~~~~~~~~~~~~~~~~~~~~~~~~~~~~~~~~~~~~~~~~~~~~~~\n",
      "03:43:52  INFO    :       Executor - Experiment 2/6, [base:rta] 2/3\n",
      "03:43:52  WARNING :       Executor - FTrace events collection enabled\n",
      "03:43:58  INFO    :          WlGen - Workload execution START:\n",
      "03:43:58  INFO    :          WlGen -    /root/devlib-target/bin/rt-app /root/devlib-target/run_dir/rta_00.json\n",
      "03:44:02  INFO    :       Executor - Collected FTrace binary trace:\n",
      "03:44:02  INFO    :       Executor -    <res_dir>/rtapp:base:rta/2/trace.dat\n",
      "03:44:03  INFO    :       Executor - Collected FTrace function profiling:\n",
      "03:44:03  INFO    :       Executor -    <res_dir>/rtapp:base:rta/2/trace_stat.json\n",
      "03:44:03  INFO    : ~~~~~~~~~~~~~~~~~~~~~~~~~~~~~~~~~~~~~~~~~~~~~~~~~~~~~~~~~~~~~~~~~~~~~~~~~~~~~~~~\n",
      "03:44:03  INFO    :       Executor - Experiment 3/6, [base:rta] 3/3\n",
      "03:44:03  WARNING :       Executor - FTrace events collection enabled\n",
      "03:44:09  INFO    :          WlGen - Workload execution START:\n",
      "03:44:09  INFO    :          WlGen -    /root/devlib-target/bin/rt-app /root/devlib-target/run_dir/rta_00.json\n",
      "03:44:14  INFO    :       Executor - Collected FTrace binary trace:\n",
      "03:44:14  INFO    :       Executor -    <res_dir>/rtapp:base:rta/3/trace.dat\n",
      "03:44:14  INFO    :       Executor - Collected FTrace function profiling:\n",
      "03:44:14  INFO    :       Executor -    <res_dir>/rtapp:base:rta/3/trace_stat.json\n",
      "03:44:14  INFO    : \n",
      "03:44:14  INFO    : ================================================================================\n",
      "03:44:14  INFO    :   TargetConfig - configuring target for [eas] experiments\n",
      "03:44:15  INFO    :  SchedFeatures - Set scheduler feature: ENERGY_AWARE\n",
      "03:44:15  INFO    :        CPUFreq - Configuring all CPUs to use [performance] governor\n",
      "03:44:16  INFO    :          WlGen - Setup new workload rta\n",
      "03:44:16  INFO    :          RTApp - Workload duration defined by longest task\n",
      "03:44:16  INFO    :          RTApp - Default policy: SCHED_OTHER\n",
      "03:44:16  INFO    :          RTApp - ------------------------\n",
      "03:44:16  INFO    :          RTApp - task [task_p20], sched: using default policy\n",
      "03:44:16  INFO    :          RTApp -  | calibration CPU: 1\n",
      "03:44:16  INFO    :          RTApp -  | loops count: 1\n",
      "03:44:16  INFO    :          RTApp - + phase_000001: duration 1.000000 [s] (10 loops)\n",
      "03:44:16  INFO    :          RTApp - |  period   100000 [us], duty_cycle  20 %\n",
      "03:44:16  INFO    :          RTApp - |  run_time  20000 [us], sleep_time  80000 [us]\n",
      "03:44:16  INFO    : ~~~~~~~~~~~~~~~~~~~~~~~~~~~~~~~~~~~~~~~~~~~~~~~~~~~~~~~~~~~~~~~~~~~~~~~~~~~~~~~~\n",
      "03:44:16  INFO    :       Executor - Experiment 4/6, [eas:rta] 1/3\n",
      "03:44:16  WARNING :       Executor - FTrace events collection enabled\n",
      "03:44:22  INFO    :          WlGen - Workload execution START:\n",
      "03:44:22  INFO    :          WlGen -    /root/devlib-target/bin/rt-app /root/devlib-target/run_dir/rta_00.json\n",
      "03:44:28  INFO    :       Executor - Collected FTrace binary trace:\n",
      "03:44:28  INFO    :       Executor -    <res_dir>/rtapp:eas:rta/1/trace.dat\n",
      "03:44:28  INFO    :       Executor - Collected FTrace function profiling:\n",
      "03:44:28  INFO    :       Executor -    <res_dir>/rtapp:eas:rta/1/trace_stat.json\n",
      "03:44:28  INFO    : ~~~~~~~~~~~~~~~~~~~~~~~~~~~~~~~~~~~~~~~~~~~~~~~~~~~~~~~~~~~~~~~~~~~~~~~~~~~~~~~~\n",
      "03:44:28  INFO    :       Executor - Experiment 5/6, [eas:rta] 2/3\n",
      "03:44:28  WARNING :       Executor - FTrace events collection enabled\n",
      "03:44:34  INFO    :          WlGen - Workload execution START:\n",
      "03:44:34  INFO    :          WlGen -    /root/devlib-target/bin/rt-app /root/devlib-target/run_dir/rta_00.json\n",
      "03:44:40  INFO    :       Executor - Collected FTrace binary trace:\n",
      "03:44:40  INFO    :       Executor -    <res_dir>/rtapp:eas:rta/2/trace.dat\n",
      "03:44:40  INFO    :       Executor - Collected FTrace function profiling:\n",
      "03:44:40  INFO    :       Executor -    <res_dir>/rtapp:eas:rta/2/trace_stat.json\n",
      "03:44:40  INFO    : ~~~~~~~~~~~~~~~~~~~~~~~~~~~~~~~~~~~~~~~~~~~~~~~~~~~~~~~~~~~~~~~~~~~~~~~~~~~~~~~~\n",
      "03:44:40  INFO    :       Executor - Experiment 6/6, [eas:rta] 3/3\n",
      "03:44:40  WARNING :       Executor - FTrace events collection enabled\n",
      "03:44:46  INFO    :          WlGen - Workload execution START:\n",
      "03:44:46  INFO    :          WlGen -    /root/devlib-target/bin/rt-app /root/devlib-target/run_dir/rta_00.json\n",
      "03:44:52  INFO    :       Executor - Collected FTrace binary trace:\n",
      "03:44:52  INFO    :       Executor -    <res_dir>/rtapp:eas:rta/3/trace.dat\n",
      "03:44:52  INFO    :       Executor - Collected FTrace function profiling:\n",
      "03:44:52  INFO    :       Executor -    <res_dir>/rtapp:eas:rta/3/trace_stat.json\n",
      "03:44:52  INFO    : \n",
      "03:44:52  INFO    : ################################################################################\n",
      "03:44:52  INFO    :       Executor - Experiments execution completed\n",
      "03:44:52  INFO    : ################################################################################\n",
      "03:44:52  INFO    :       Executor - Results available in:\n",
      "03:44:52  INFO    :       Executor -       /home/derkling/Code/lisa/results/KernelFunctionsProfilingExample\n"
     ]
    }
   ],
   "source": [
    "# Execute all the configured test\n",
    "executor.run()"
   ]
  },
  {
   "cell_type": "code",
   "execution_count": 6,
   "metadata": {
    "collapsed": false
   },
   "outputs": [
    {
     "name": "stdout",
     "output_type": "stream",
     "text": [
      "/home/derkling/Code/lisa/results/KernelFunctionsProfilingExample\n"
     ]
    }
   ],
   "source": [
    "res_dir = \"/home/derkling/Code/lisa/results/KernelFunctionsProfilingExample\"\n",
    "out_dir = \"/home/derkling/Code/lisa/results/KernelFunctionsProfilingExample/rtapp:eas:rta/2/trace.dat\"\n",
    "out_dir.replace(res_dir, \"<res_dir>\")\n",
    "print executor.te.res_dir"
   ]
  },
  {
   "cell_type": "code",
   "execution_count": 7,
   "metadata": {
    "collapsed": false,
    "scrolled": false
   },
   "outputs": [
    {
     "name": "stderr",
     "output_type": "stream",
     "text": [
      "03:44:52  INFO    : Content of the output folder /home/derkling/Code/lisa/results/KernelFunctionsProfilingExample\n"
     ]
    },
    {
     "name": "stdout",
     "output_type": "stream",
     "text": [
      "\u001b[01;34m/home/derkling/Code/lisa/results/KernelFunctionsProfilingExample\u001b[00m\r\n",
      "├── \u001b[01;34mrtapp:base:rta\u001b[00m\r\n",
      "│   ├── \u001b[01;34m1\u001b[00m\r\n",
      "│   │   ├── output.log\r\n",
      "│   │   ├── rta_00.json\r\n",
      "│   │   ├── rt-app-task_p20-0.log\r\n",
      "│   │   ├── trace.dat\r\n",
      "│   │   └── trace_stat.json\r\n",
      "│   ├── \u001b[01;34m2\u001b[00m\r\n",
      "│   │   ├── output.log\r\n",
      "│   │   ├── rta_00.json\r\n",
      "│   │   ├── rt-app-task_p20-0.log\r\n",
      "│   │   ├── trace.dat\r\n",
      "│   │   └── trace_stat.json\r\n",
      "│   ├── \u001b[01;34m3\u001b[00m\r\n",
      "│   │   ├── output.log\r\n",
      "│   │   ├── rta_00.json\r\n",
      "│   │   ├── rt-app-task_p20-0.log\r\n",
      "│   │   ├── trace.dat\r\n",
      "│   │   └── trace_stat.json\r\n",
      "│   ├── kernel.config\r\n",
      "│   ├── kernel.version\r\n",
      "│   └── platform.json\r\n",
      "└── \u001b[01;34mrtapp:eas:rta\u001b[00m\r\n",
      "    ├── \u001b[01;34m1\u001b[00m\r\n",
      "    │   ├── output.log\r\n",
      "    │   ├── rta_00.json\r\n",
      "    │   ├── rt-app-task_p20-0.log\r\n",
      "    │   ├── trace.dat\r\n",
      "    │   └── trace_stat.json\r\n",
      "    ├── \u001b[01;34m2\u001b[00m\r\n",
      "    │   ├── output.log\r\n",
      "    │   ├── rta_00.json\r\n",
      "    │   ├── rt-app-task_p20-0.log\r\n",
      "    │   ├── trace.dat\r\n",
      "    │   └── trace_stat.json\r\n",
      "    ├── \u001b[01;34m3\u001b[00m\r\n",
      "    │   ├── output.log\r\n",
      "    │   ├── rta_00.json\r\n",
      "    │   ├── rt-app-task_p20-0.log\r\n",
      "    │   ├── trace.dat\r\n",
      "    │   └── trace_stat.json\r\n",
      "    ├── kernel.config\r\n",
      "    ├── kernel.version\r\n",
      "    └── platform.json\r\n",
      "\r\n",
      "8 directories, 36 files\r\n"
     ]
    }
   ],
   "source": [
    "# Check content of the output folder\n",
    "res_dir = executor.te.res_dir\n",
    "logging.info('Content of the output folder %s', res_dir)\n",
    "!tree {res_dir}"
   ]
  },
  {
   "cell_type": "markdown",
   "metadata": {},
   "source": [
    "# Load function profiling data"
   ]
  },
  {
   "cell_type": "code",
   "execution_count": 8,
   "metadata": {
    "collapsed": false,
    "scrolled": false
   },
   "outputs": [],
   "source": [
    "def autodict():\n",
    "    return collections.defaultdict(autodict)\n",
    "\n",
    "def parse_perf_stat(res_dir):\n",
    "    TEST_DIR_RE = re.compile(r'.*/([^:]*):([^:]*):([^:]*)')\n",
    "    profiling_data = autodict()\n",
    "\n",
    "    for test_idx in sorted(os.listdir(res_dir)):\n",
    "        test_dir = os.path.join(res_dir, test_idx)\n",
    "        if not os.path.isdir(test_dir):\n",
    "            continue\n",
    "        match = TEST_DIR_RE.search(test_dir)\n",
    "        if not match:\n",
    "            continue\n",
    "        wtype = match.group(1)\n",
    "        tconf = match.group(2)\n",
    "        wload = match.group(3)\n",
    "\n",
    "        #logging.info('Processing %s:%s:%s', wtype, tconf, wload)\n",
    "        trace_stat_file = os.path.join(test_dir, '1', 'trace_stat.json')\n",
    "        if not os.path.isfile(trace_stat_file):\n",
    "            continue\n",
    "        with open(trace_stat_file, 'r') as fh:\n",
    "            data = json.load(fh)\n",
    "        for cpu_id, cpu_stats in sorted(data.items()):\n",
    "            for fname in cpu_stats:\n",
    "                profiling_data[cpu_id][tconf][fname] = cpu_stats[fname]\n",
    "\n",
    "    return profiling_data\n",
    "  \n",
    "profiling_data = parse_perf_stat(res_dir)\n",
    "#logging.info(\"Profiling data:\\n%s\", json.dumps(profiling_data, indent=4))\n",
    "#profiling_data"
   ]
  },
  {
   "cell_type": "markdown",
   "metadata": {},
   "source": [
    "## Build Pandas DataFrame from profiling data"
   ]
  },
  {
   "cell_type": "code",
   "execution_count": 9,
   "metadata": {
    "collapsed": false
   },
   "outputs": [],
   "source": [
    "def get_df(profiling_data):\n",
    "    cpu_ids = []\n",
    "    cpu_frames = []\n",
    "    for cpu_id, cpu_data in sorted(profiling_data.items()):\n",
    "        cpu_ids.append(cpu_id)\n",
    "        conf_ids = []\n",
    "        conf_frames = []\n",
    "        for conf_id, conf_data in cpu_data.iteritems():\n",
    "            conf_ids.append(conf_id)\n",
    "            function_data = pandas.DataFrame.from_dict(conf_data, orient='index')\n",
    "            conf_frames.append(function_data)\n",
    "        df = pandas.concat(conf_frames, keys=conf_ids)\n",
    "        cpu_frames.append(df)\n",
    "    df = pandas.concat(cpu_frames, keys=cpu_ids)\n",
    "    #df.head()\n",
    "    return df\n",
    "\n",
    "stats_df = get_df(profiling_data)\n",
    "#stats_df"
   ]
  },
  {
   "cell_type": "markdown",
   "metadata": {},
   "source": [
    "## Plot profiling data per function and CPU"
   ]
  },
  {
   "cell_type": "code",
   "execution_count": 10,
   "metadata": {
    "collapsed": false
   },
   "outputs": [],
   "source": [
    "def plot_stats(df, fname, axes=None):\n",
    "    func_data = df.xs(fname, level=2)\n",
    "    func_stats = func_data.xs(['avg', 's_2'], axis=1)\n",
    "    #func_stats\n",
    "    func_avg = func_stats.unstack(level=1)['avg']\n",
    "    func_std = func_stats.unstack(level=1)['s_2'].apply(numpy.sqrt)\n",
    "    func_avg.plot(kind='bar', title=fname, yerr=func_std, ax=axes);\n",
    "\n",
    "#plot_stats(stats_df, 'select_task_rq_fair')"
   ]
  },
  {
   "cell_type": "code",
   "execution_count": 11,
   "metadata": {
    "collapsed": false,
    "scrolled": false
   },
   "outputs": [
    {
     "name": "stderr",
     "output_type": "stream",
     "text": [
      "03:44:53  INFO    : Plotting stats for [dequeue_task_fair] function\n",
      "03:44:53  INFO    : Plotting stats for [enqueue_task_fair] function\n",
      "03:44:53  INFO    : Plotting stats for [select_task_rq_fair] function\n"
     ]
    },
    {
     "data": {
      "image/png": "[encoded data removed]",
      "text/plain": [
       "<matplotlib.figure.Figure at 0x7fd620dcb450>"
      ]
     },
     "metadata": {},
     "output_type": "display_data"
    }
   ],
   "source": [
    "def plot_all_functions(df):\n",
    "    functions = df.index.get_level_values(2).unique()\n",
    "    fcount = len(functions)\n",
    "\n",
    "    fig, pltaxes = plt.subplots(fcount, 1, figsize=(16, 8*fcount))\n",
    "\n",
    "    fig_id = 0\n",
    "    for fname in functions:\n",
    "        logging.info(\"Plotting stats for [%s] function\", fname)\n",
    "        if fcount > 1:\n",
    "            axes = pltaxes[fig_id]\n",
    "        else:\n",
    "            axes = pltaxes\n",
    "        plot_stats(df, fname, axes)\n",
    "        fig_id = fig_id + 1\n",
    "        \n",
    "plot_all_functions(stats_df)"
   ]
  }
 ],
 "metadata": {
  "kernelspec": {
   "display_name": "Python 2",
   "language": "python",
   "name": "python2"
  },
  "language_info": {
   "codemirror_mode": {
    "name": "ipython",
    "version": 2
   },
   "file_extension": ".py",
   "mimetype": "text/x-python",
   "name": "python",
   "nbconvert_exporter": "python",
   "pygments_lexer": "ipython2",
   "version": "2.7.9"
  }
 },
 "nbformat": 4,
 "nbformat_minor": 0
}
