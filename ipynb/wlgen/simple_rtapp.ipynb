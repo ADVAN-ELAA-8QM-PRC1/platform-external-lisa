{
 "cells": [
  {
   "cell_type": "code",
   "execution_count": 1,
   "metadata": {
    "collapsed": true
   },
   "outputs": [],
   "source": [
    "import logging\n",
    "reload(logging)\n",
    "logging.basicConfig(\n",
    "    format='%(asctime)-9s %(levelname)-8s: %(message)s',\n",
    "    datefmt='%I:%M:%S')\n",
    "\n",
    "# Enable logging at INFO level\n",
    "logging.getLogger().setLevel(logging.INFO)\n",
    "# Comment the follwing line to disable devlib debugging statements\n",
    "logging.getLogger('ssh').setLevel(logging.DEBUG)"
   ]
  },
  {
   "cell_type": "code",
   "execution_count": 2,
   "metadata": {
    "collapsed": false
   },
   "outputs": [
    {
     "name": "stdout",
     "output_type": "stream",
     "text": [
      "Populating the interactive namespace from numpy and matplotlib\n"
     ]
    }
   ],
   "source": [
    "# Generate plots inline\n",
    "%pylab inline\n",
    "\n",
    "import json\n",
    "import os\n",
    "\n",
    "# Support to access the remote target\n",
    "import devlib\n",
    "from env import TestEnv\n",
    "\n",
    "# Support to configure and run RTApp based workloads\n",
    "from wlgen import RTA\n",
    "\n",
    "# Support for performance analysis of RTApp workloads\n",
    "from perf_analysis import PerfAnalysis\n",
    "\n",
    "# Suport for FTrace events parsing and visualization\n",
    "import trappy"
   ]
  },
  {
   "cell_type": "markdown",
   "metadata": {},
   "source": [
    "# Test environment setup"
   ]
  },
  {
   "cell_type": "code",
   "execution_count": 3,
   "metadata": {
    "collapsed": true
   },
   "outputs": [],
   "source": [
    "# Setup a target configuration\n",
    "my_target_conf = {\n",
    "    \n",
    "    # Define the kind of target platform to use for the experiments\n",
    "    \"platform\"    : 'linux',  # Linux system, valid other options are:\n",
    "                              # android - access via ADB\n",
    "                              # linux   - access via SSH\n",
    "                              # host    - direct access\n",
    "    \n",
    "    # Preload settings for a specific target\n",
    "    \"board\"       : 'juno',   # load JUNO specific settings, e.g.\n",
    "                              # - HWMON based energy sampling\n",
    "                              # - Juno energy model\n",
    "                              # valid options are:\n",
    "                              # - juno  - JUNO Development Board\n",
    "                              # - tc2   - TC2 Development Board\n",
    "                              # - oak   - Mediatek MT63xx based target\n",
    "\n",
    "    # Define devlib module to load\n",
    "    \"modules\"     : [\n",
    "        'bl',           # enable big.LITTLE support\n",
    "        'cpufreq'       # enable CPUFreq support\n",
    "    ],\n",
    "\n",
    "    # Account to access the remote target\n",
    "    \"host\"        : '192.168.0.10',\n",
    "    \"username\"    : 'root',\n",
    "    \"password\"    : '',\n",
    "\n",
    "    # Comment the following line to force rt-app calibration on your target\n",
    "    \"rtapp-calib\" : {\n",
    "        '0': 361, '1': 138, '2': 138, '3': 352, '4': 360, '5': 353\n",
    "    }\n",
    "\n",
    "}\n",
    "\n",
    "# Setup the required Test Environment supports\n",
    "my_tests_conf = {\n",
    "    \n",
    "    # Additional devlib modules required for this experiment\n",
    "    \"modules\" : ['hwmon'],\n",
    "    \n",
    "    # Binary tools required to run this experiment\n",
    "    # These tools must be present in the tools/ folder for the architecture\n",
    "    \"tools\"   : ['rt-app', 'taskset', 'trace-cmd'],\n",
    "    \n",
    "    # FTrace events end buffer configuration\n",
    "    \"ftrace\"  : {\n",
    "         \"events\" : [\n",
    "             \"sched_switch\",\n",
    "             \"cpu_frequency\"\n",
    "         ],\n",
    "         \"buffsize\" : 10240\n",
    "    },\n",
    "\n",
    "}"
   ]
  },
  {
   "cell_type": "code",
   "execution_count": 4,
   "metadata": {
    "collapsed": false,
    "scrolled": false
   },
   "outputs": [
    {
     "name": "stderr",
     "output_type": "stream",
     "text": [
      "04:35:52  INFO    :         Target - Using base path: /home/derkling/Code/schedtest\n",
      "04:35:52  INFO    : %14s - Loading custom (inline) target configuration\n",
      "04:35:52  INFO    :         Target - Connecting linux target with: {'username': 'root', 'host': '192.168.0.10', 'password': ''}\n",
      "04:35:52  DEBUG   : Logging in root@192.168.0.10\n",
      "04:35:54  DEBUG   : echo $PATH\n",
      "04:35:54  DEBUG   : ls -1 /usr/local/bin\n",
      "04:35:54  DEBUG   : cat /proc/cpuinfo\n",
      "04:35:55  DEBUG   : id\n",
      "04:35:55  DEBUG   : sudo -- sh -c 'dmidecode -s system-version'\n",
      "04:35:56  DEBUG   : uname -m\n",
      "04:35:56  DEBUG   : if [ -e '/sys/devices/system/cpu/cpufreq' ]; then echo 1; else echo 0; fi\n",
      "04:35:57  DEBUG   : if [ -e '/sys/devices/system/cpu/cpu0/cpufreq' ]; then echo 1; else echo 0; fi\n",
      "04:35:57  DEBUG   : if [ -e '/sys/class/hwmon' ]; then echo 1; else echo 0; fi\n",
      "04:35:57  DEBUG   : ls -1 /sys/class/hwmon\n",
      "04:35:58  DEBUG   : if [ -e '/sys/class/hwmon/hwmon0/name' ]; then echo 1; else echo 0; fi\n",
      "04:35:58  DEBUG   : sudo -- sh -c 'cat '\\''/sys/class/hwmon/hwmon0/name'\\'''\n",
      "04:35:59  DEBUG   : ls -1 /sys/class/hwmon/hwmon0/\n",
      "04:35:59  DEBUG   : sudo -- sh -c 'cat '\\''/sys/class/hwmon/hwmon0/curr1_label'\\'''\n",
      "04:35:59  DEBUG   : if [ -e '/sys/class/hwmon/hwmon1/name' ]; then echo 1; else echo 0; fi\n",
      "04:36:00  DEBUG   : sudo -- sh -c 'cat '\\''/sys/class/hwmon/hwmon1/name'\\'''\n",
      "04:36:00  DEBUG   : ls -1 /sys/class/hwmon/hwmon1/\n",
      "04:36:01  DEBUG   : sudo -- sh -c 'cat '\\''/sys/class/hwmon/hwmon1/curr1_label'\\'''\n",
      "04:36:01  DEBUG   : if [ -e '/sys/class/hwmon/hwmon10/name' ]; then echo 1; else echo 0; fi\n",
      "04:36:02  DEBUG   : sudo -- sh -c 'cat '\\''/sys/class/hwmon/hwmon10/name'\\'''\n",
      "04:36:02  DEBUG   : ls -1 /sys/class/hwmon/hwmon10/\n",
      "04:36:02  DEBUG   : sudo -- sh -c 'cat '\\''/sys/class/hwmon/hwmon10/power1_label'\\'''\n",
      "04:36:03  DEBUG   : if [ -e '/sys/class/hwmon/hwmon11/name' ]; then echo 1; else echo 0; fi\n",
      "04:36:03  DEBUG   : sudo -- sh -c 'cat '\\''/sys/class/hwmon/hwmon11/name'\\'''\n",
      "04:36:04  DEBUG   : ls -1 /sys/class/hwmon/hwmon11/\n",
      "04:36:04  DEBUG   : sudo -- sh -c 'cat '\\''/sys/class/hwmon/hwmon11/power1_label'\\'''\n",
      "04:36:04  DEBUG   : if [ -e '/sys/class/hwmon/hwmon12/name' ]; then echo 1; else echo 0; fi\n",
      "04:36:05  DEBUG   : sudo -- sh -c 'cat '\\''/sys/class/hwmon/hwmon12/name'\\'''\n",
      "04:36:05  DEBUG   : ls -1 /sys/class/hwmon/hwmon12/\n",
      "04:36:06  DEBUG   : sudo -- sh -c 'cat '\\''/sys/class/hwmon/hwmon12/energy1_label'\\'''\n",
      "04:36:06  DEBUG   : if [ -e '/sys/class/hwmon/hwmon13/name' ]; then echo 1; else echo 0; fi\n",
      "04:36:07  DEBUG   : sudo -- sh -c 'cat '\\''/sys/class/hwmon/hwmon13/name'\\'''\n",
      "04:36:07  DEBUG   : ls -1 /sys/class/hwmon/hwmon13/\n",
      "04:36:07  DEBUG   : sudo -- sh -c 'cat '\\''/sys/class/hwmon/hwmon13/energy1_label'\\'''\n",
      "04:36:08  DEBUG   : if [ -e '/sys/class/hwmon/hwmon14/name' ]; then echo 1; else echo 0; fi\n",
      "04:36:08  DEBUG   : sudo -- sh -c 'cat '\\''/sys/class/hwmon/hwmon14/name'\\'''\n",
      "04:36:09  DEBUG   : ls -1 /sys/class/hwmon/hwmon14/\n",
      "04:36:09  DEBUG   : sudo -- sh -c 'cat '\\''/sys/class/hwmon/hwmon14/energy1_label'\\'''\n",
      "04:36:10  DEBUG   : if [ -e '/sys/class/hwmon/hwmon15/name' ]; then echo 1; else echo 0; fi\n",
      "04:36:10  DEBUG   : sudo -- sh -c 'cat '\\''/sys/class/hwmon/hwmon15/name'\\'''\n",
      "04:36:10  DEBUG   : ls -1 /sys/class/hwmon/hwmon15/\n",
      "04:36:11  DEBUG   : sudo -- sh -c 'cat '\\''/sys/class/hwmon/hwmon15/energy1_label'\\'''\n",
      "04:36:11  DEBUG   : if [ -e '/sys/class/hwmon/hwmon16/name' ]; then echo 1; else echo 0; fi\n",
      "04:36:12  DEBUG   : sudo -- sh -c 'cat '\\''/sys/class/hwmon/hwmon16/name'\\'''\n",
      "04:36:12  DEBUG   : ls -1 /sys/class/hwmon/hwmon16/\n",
      "04:36:12  DEBUG   : sudo -- sh -c 'cat '\\''/sys/class/hwmon/hwmon16/in0_label'\\'''\n",
      "04:36:13  DEBUG   : sudo -- sh -c 'cat '\\''/sys/class/hwmon/hwmon16/in1_label'\\'''\n",
      "04:36:13  DEBUG   : sudo -- sh -c 'cat '\\''/sys/class/hwmon/hwmon16/in2_label'\\'''\n",
      "04:36:14  DEBUG   : sudo -- sh -c 'cat '\\''/sys/class/hwmon/hwmon16/in3_label'\\'''\n",
      "04:36:14  DEBUG   : sudo -- sh -c 'cat '\\''/sys/class/hwmon/hwmon16/in4_label'\\'''\n",
      "04:36:15  DEBUG   : sudo -- sh -c 'cat '\\''/sys/class/hwmon/hwmon16/in5_label'\\'''\n",
      "04:36:15  DEBUG   : sudo -- sh -c 'cat '\\''/sys/class/hwmon/hwmon16/in6_label'\\'''\n",
      "04:36:15  DEBUG   : sudo -- sh -c 'cat '\\''/sys/class/hwmon/hwmon16/temp1_label'\\'''\n",
      "04:36:16  DEBUG   : sudo -- sh -c 'cat '\\''/sys/class/hwmon/hwmon16/temp2_label'\\'''\n",
      "04:36:16  DEBUG   : if [ -e '/sys/class/hwmon/hwmon2/name' ]; then echo 1; else echo 0; fi\n",
      "04:36:17  DEBUG   : sudo -- sh -c 'cat '\\''/sys/class/hwmon/hwmon2/name'\\'''\n",
      "04:36:17  DEBUG   : ls -1 /sys/class/hwmon/hwmon2/\n",
      "04:36:18  DEBUG   : sudo -- sh -c 'cat '\\''/sys/class/hwmon/hwmon2/curr1_label'\\'''\n",
      "04:36:18  DEBUG   : if [ -e '/sys/class/hwmon/hwmon3/name' ]; then echo 1; else echo 0; fi\n",
      "04:36:18  DEBUG   : sudo -- sh -c 'cat '\\''/sys/class/hwmon/hwmon3/name'\\'''\n",
      "04:36:19  DEBUG   : ls -1 /sys/class/hwmon/hwmon3/\n",
      "04:36:19  DEBUG   : sudo -- sh -c 'cat '\\''/sys/class/hwmon/hwmon3/curr1_label'\\'''\n",
      "04:36:20  DEBUG   : if [ -e '/sys/class/hwmon/hwmon4/name' ]; then echo 1; else echo 0; fi\n",
      "04:36:20  DEBUG   : sudo -- sh -c 'cat '\\''/sys/class/hwmon/hwmon4/name'\\'''\n",
      "04:36:21  DEBUG   : ls -1 /sys/class/hwmon/hwmon4/\n",
      "04:36:21  DEBUG   : sudo -- sh -c 'cat '\\''/sys/class/hwmon/hwmon4/in1_label'\\'''\n",
      "04:36:21  DEBUG   : if [ -e '/sys/class/hwmon/hwmon5/name' ]; then echo 1; else echo 0; fi\n",
      "04:36:22  DEBUG   : sudo -- sh -c 'cat '\\''/sys/class/hwmon/hwmon5/name'\\'''\n",
      "04:36:22  DEBUG   : ls -1 /sys/class/hwmon/hwmon5/\n",
      "04:36:23  DEBUG   : sudo -- sh -c 'cat '\\''/sys/class/hwmon/hwmon5/in1_label'\\'''\n",
      "04:36:23  DEBUG   : if [ -e '/sys/class/hwmon/hwmon6/name' ]; then echo 1; else echo 0; fi\n",
      "04:36:24  DEBUG   : sudo -- sh -c 'cat '\\''/sys/class/hwmon/hwmon6/name'\\'''\n",
      "04:36:24  DEBUG   : ls -1 /sys/class/hwmon/hwmon6/\n",
      "04:36:24  DEBUG   : sudo -- sh -c 'cat '\\''/sys/class/hwmon/hwmon6/in1_label'\\'''\n",
      "04:36:25  DEBUG   : if [ -e '/sys/class/hwmon/hwmon7/name' ]; then echo 1; else echo 0; fi\n",
      "04:36:25  DEBUG   : sudo -- sh -c 'cat '\\''/sys/class/hwmon/hwmon7/name'\\'''\n",
      "04:36:26  DEBUG   : ls -1 /sys/class/hwmon/hwmon7/\n",
      "04:36:26  DEBUG   : sudo -- sh -c 'cat '\\''/sys/class/hwmon/hwmon7/in1_label'\\'''\n",
      "04:36:26  DEBUG   : if [ -e '/sys/class/hwmon/hwmon8/name' ]; then echo 1; else echo 0; fi\n",
      "04:36:27  DEBUG   : sudo -- sh -c 'cat '\\''/sys/class/hwmon/hwmon8/name'\\'''\n",
      "04:36:27  DEBUG   : ls -1 /sys/class/hwmon/hwmon8/\n",
      "04:36:28  DEBUG   : sudo -- sh -c 'cat '\\''/sys/class/hwmon/hwmon8/power1_label'\\'''\n",
      "04:36:28  DEBUG   : if [ -e '/sys/class/hwmon/hwmon9/name' ]; then echo 1; else echo 0; fi\n",
      "04:36:29  DEBUG   : sudo -- sh -c 'cat '\\''/sys/class/hwmon/hwmon9/name'\\'''\n",
      "04:36:29  DEBUG   : ls -1 /sys/class/hwmon/hwmon9/\n",
      "04:36:29  DEBUG   : sudo -- sh -c 'cat '\\''/sys/class/hwmon/hwmon9/power1_label'\\'''\n",
      "04:36:30  INFO    :         Target - Initializing target workdir [/root/devlib-target]\n",
      "04:36:30  DEBUG   : mkdir -p /root/devlib-target\n",
      "04:36:30  DEBUG   : mkdir -p /root/devlib-target/bin\n",
      "04:36:31  DEBUG   : /usr/bin/scp -r   /home/derkling/.local/lib/python2.7/site-packages/devlib/bin/arm64/busybox root@192.168.0.10:/root/devlib-target/bin/busybox\n",
      "04:36:31  DEBUG   : chmod a+x /root/devlib-target/bin/busybox\n",
      "04:36:31  DEBUG   : /usr/bin/scp -r   /home/derkling/Code/schedtest/tools/arm64/taskset root@192.168.0.10:/root/devlib-target/bin/taskset\n",
      "04:36:32  DEBUG   : chmod a+x /root/devlib-target/bin/taskset\n",
      "04:36:32  DEBUG   : /usr/bin/scp -r   /home/derkling/Code/schedtest/tools/arm64/rt-app root@192.168.0.10:/root/devlib-target/bin/rt-app\n",
      "04:36:32  DEBUG   : chmod a+x /root/devlib-target/bin/rt-app\n",
      "04:36:32  DEBUG   : /usr/bin/scp -r   /home/derkling/Code/schedtest/tools/arm64/trace-cmd root@192.168.0.10:/root/devlib-target/bin/trace-cmd\n",
      "04:36:33  DEBUG   : chmod a+x /root/devlib-target/bin/trace-cmd\n",
      "04:36:33  INFO    : Target topology: [[0, 3, 4, 5], [1, 2]]\n",
      "04:36:33  DEBUG   : sudo -- sh -c 'cat '\\''/sys/devices/system/cpu/online'\\'''\n",
      "04:36:34  DEBUG   : cat /sys/devices/system/cpu/cpu0/cpufreq/scaling_available_frequencies\n",
      "04:36:34  DEBUG   : sudo -- sh -c 'cat '\\''/sys/devices/system/cpu/online'\\'''\n",
      "04:36:35  DEBUG   : cat /sys/devices/system/cpu/cpu1/cpufreq/scaling_available_frequencies\n",
      "04:36:35  DEBUG   : /usr/bin/scp -r   /home/derkling/.local/lib/python2.7/site-packages/devlib/bin/arm64/trace-cmd root@192.168.0.10:/root/devlib-target/bin/trace-cmd\n",
      "04:36:35  DEBUG   : chmod a+x /root/devlib-target/bin/trace-cmd\n",
      "04:36:36  INFO    :         FTrace - Enabled events:\n",
      "04:36:36  INFO    :         FTrace -   ['sched_switch', 'cpu_frequency']\n",
      "04:36:36  INFO    :    EnergyMeter - Channels selected for energy sampling:\n",
      "[CHAN(v2m_juno_energy/energy1, a57_energy), CHAN(v2m_juno_energy/energy1, a53_energy)]\n",
      "04:36:36  INFO    : Loading RTApp calibration from configuration file...\n",
      "04:36:36  INFO    : Using RT-App calibration values: {0: 361, 1: 138, 2: 138, 3: 352, 4: 360, 5: 353}\n"
     ]
    }
   ],
   "source": [
    "# Initialize a test environment using:\n",
    "# the provided target configuration (my_target_conf)\n",
    "# the provided test configuration   (my_test_conf)\n",
    "te = TestEnv(target_conf=my_target_conf, test_conf=my_tests_conf)\n",
    "target = te.target"
   ]
  },
  {
   "cell_type": "markdown",
   "metadata": {},
   "source": [
    "# Workload configuration"
   ]
  },
  {
   "cell_type": "code",
   "execution_count": 5,
   "metadata": {
    "collapsed": false
   },
   "outputs": [
    {
     "name": "stderr",
     "output_type": "stream",
     "text": [
      "04:36:36  INFO    : Setup new workload simple\n",
      "04:36:36  INFO    : Workload duration defined by longest task\n",
      "04:36:36  INFO    : Default policy: SCHED_OTHER\n",
      "04:36:36  INFO    : ------------------------\n",
      "04:36:36  INFO    : task [task_p20], sched: using default policy\n",
      "04:36:36  INFO    :  | loops count: 1\n",
      "04:36:36  INFO    :  | CPUs affinity: 0\n",
      "04:36:36  INFO    :  + phase_000001: duration 5.000000 [s] (50 loops)\n",
      "04:36:36  INFO    :  |  period   100000 [us], duty_cycle  20 %\n",
      "04:36:36  INFO    :  |  run_time  20000 [us], sleep_time  80000 [us]\n",
      "04:36:36  INFO    : ------------------------\n",
      "04:36:36  INFO    : task [task_r20_5-60], sched: using default policy\n",
      "04:36:36  INFO    :  | loops count: 1\n",
      "04:36:36  INFO    :  | CPUs affinity: 5\n",
      "04:36:36  INFO    :  + phase_000001: duration 1.000000 [s] (10 loops)\n",
      "04:36:36  INFO    :  |  period   100000 [us], duty_cycle   5 %\n",
      "04:36:36  INFO    :  |  run_time   5000 [us], sleep_time  95000 [us]\n",
      "04:36:36  INFO    :  + phase_000002: duration 1.000000 [s] (10 loops)\n",
      "04:36:36  INFO    :  |  period   100000 [us], duty_cycle  25 %\n",
      "04:36:36  INFO    :  |  run_time  25000 [us], sleep_time  75000 [us]\n",
      "04:36:36  INFO    :  + phase_000003: duration 1.000000 [s] (10 loops)\n",
      "04:36:36  INFO    :  |  period   100000 [us], duty_cycle  45 %\n",
      "04:36:36  INFO    :  |  run_time  45000 [us], sleep_time  55000 [us]\n",
      "04:36:36  INFO    :  + phase_000004: duration 1.000000 [s] (10 loops)\n",
      "04:36:36  INFO    :  |  period   100000 [us], duty_cycle  65 %\n",
      "04:36:36  INFO    :  |  run_time  65000 [us], sleep_time  35000 [us]\n",
      "04:36:36  DEBUG   : /usr/bin/scp -r   simple_00.json root@192.168.0.10:/root/devlib-target\n"
     ]
    }
   ],
   "source": [
    "# Create a new RTApp workload generator using the calibration values\n",
    "# reported by the TestEnv module\n",
    "rtapp = RTA(target, 'simple', calibration=te.calibration())\n",
    "\n",
    "# Configure this RTApp instance to:\n",
    "rtapp.conf(\n",
    "    # 1. generate a \"profile based\" set of tasks\n",
    "    kind='profile',\n",
    "    \n",
    "    # 2. define the \"profile\" of each task\n",
    "    params={\n",
    "        \n",
    "        # 3. PERIODIC task with\n",
    "        'task_p20': RTA.periodic(\n",
    "            period_ms=100,         # period\n",
    "            duty_cycle_pct=20,     # duty cycle\n",
    "            duration_s=5,          # duration    \n",
    "            cpus='0'               # pinned on CPU0\n",
    "        ),\n",
    "        \n",
    "        # 4. RAMP task (i.e. increasing load) with\n",
    "        'task_r20_5-60': RTA.ramp(\n",
    "            start_pct=5,           # intial load\n",
    "            end_pct=65,            # end load\n",
    "            delta_pct=20,          # load % increase...\n",
    "            time_s=1,              # ... every 1[s]\n",
    "            # pinned on last CPU of the target\n",
    "            cpus=str(len(target.core_names)-1)\n",
    "        ),\n",
    "    },\n",
    "    \n",
    "    # 4. use this folder for task logfiles\n",
    "    run_dir=target.working_directory\n",
    "    \n",
    ");"
   ]
  },
  {
   "cell_type": "markdown",
   "metadata": {},
   "source": [
    "# Workload execution"
   ]
  },
  {
   "cell_type": "code",
   "execution_count": 6,
   "metadata": {
    "collapsed": false
   },
   "outputs": [
    {
     "name": "stderr",
     "output_type": "stream",
     "text": [
      "04:36:36  INFO    : #### Setup FTrace\n",
      "04:36:36  DEBUG   : sudo -- sh -c 'echo 10240 > '\\''/sys/kernel/debug/tracing/buffer_size_kb'\\'''\n",
      "04:36:36  DEBUG   : sudo -- sh -c 'cat '\\''/sys/kernel/debug/tracing/buffer_size_kb'\\'''\n",
      "04:36:37  DEBUG   : sudo -- sh -c '/root/devlib-target/bin/trace-cmd reset'\n",
      "04:36:39  DEBUG   : sudo -- sh -c 'echo TRACE_MARKER_START > '\\''/sys/kernel/debug/tracing/trace_marker'\\'''\n",
      "04:36:40  DEBUG   : sudo -- sh -c '/root/devlib-target/bin/trace-cmd start -e sched_switch -e cpu_frequency'\n",
      "04:36:42  INFO    : #### Start energy sampling\n",
      "04:36:42  DEBUG   : sudo -- sh -c 'cat '\\''/sys/class/hwmon/hwmon13/energy1_input'\\'''\n",
      "04:36:43  DEBUG   : sudo -- sh -c 'cat '\\''/sys/class/hwmon/hwmon14/energy1_input'\\'''\n",
      "04:36:43  INFO    : #### Start RTApp execution\n",
      "04:36:43  INFO    : Executor [start]: /root/devlib-target/bin/rt-app /root/devlib-target/simple_00.json\n",
      "04:36:43  DEBUG   : /root/devlib-target/bin/rt-app /root/devlib-target/simple_00.json\n",
      "04:36:49  DEBUG   : /usr/bin/scp -r   root@192.168.0.10:'/root/devlib-target/*task_p20*.log' /home/derkling/Code/schedtest/results/20151113_163636\n",
      "04:36:49  DEBUG   : /usr/bin/scp -r   root@192.168.0.10:'/root/devlib-target/*task_r20_5-60*.log' /home/derkling/Code/schedtest/results/20151113_163636\n",
      "04:36:49  DEBUG   : /usr/bin/scp -r   root@192.168.0.10:/root/devlib-target/simple_00.json /home/derkling/Code/schedtest/results/20151113_163636\n",
      "04:36:49  INFO    : Executor [end]: /root/devlib-target/bin/rt-app /root/devlib-target/simple_00.json\n",
      "04:36:49  INFO    : #### Read energy consumption: /home/derkling/Code/schedtest/results/20151113_163636/energy.json\n",
      "04:36:49  DEBUG   : sudo -- sh -c 'cat '\\''/sys/class/hwmon/hwmon13/energy1_input'\\'''\n",
      "04:36:49  DEBUG   : sudo -- sh -c 'cat '\\''/sys/class/hwmon/hwmon14/energy1_input'\\'''\n",
      "04:36:49  INFO    :   EnergyReport - Energy [             a53]: 9.895538\n",
      "04:36:49  INFO    :   EnergyReport - Energy [             a57]: 2.266392\n",
      "04:36:49  INFO    : #### Stop FTrace\n",
      "04:36:50  DEBUG   : sudo -- sh -c 'echo TRACE_MARKER_STOP > '\\''/sys/kernel/debug/tracing/trace_marker'\\'''\n",
      "04:36:50  DEBUG   : sudo -- sh -c '/root/devlib-target/bin/trace-cmd stop'\n",
      "04:36:50  INFO    : #### Save FTrace: /home/derkling/Code/schedtest/results/20151113_163636/trace.dat\n",
      "04:36:50  DEBUG   : sudo -- sh -c '/root/devlib-target/bin/trace-cmd extract -o /root/devlib-target/trace.dat'\n",
      "04:36:53  DEBUG   : /usr/bin/scp -r   root@192.168.0.10:/root/devlib-target/trace.dat /home/derkling/Code/schedtest/results/20151113_163636/trace.dat\n",
      "04:36:54  INFO    : #### Save platform description: /home/derkling/Code/schedtest/results/20151113_163636/platform.json\n"
     ]
    }
   ],
   "source": [
    "logging.info('#### Setup FTrace')\n",
    "te.ftrace.start()\n",
    "\n",
    "logging.info('#### Start energy sampling')\n",
    "te.emeter.reset()\n",
    "\n",
    "logging.info('#### Start RTApp execution')\n",
    "rtapp.run(out_dir=te.res_dir)\n",
    "\n",
    "logging.info('#### Read energy consumption: %s/energy.json', te.res_dir)\n",
    "(nrg, nrg_file) = te.emeter.report(out_dir=te.res_dir)\n",
    "\n",
    "logging.info('#### Stop FTrace')\n",
    "te.ftrace.stop()\n",
    "\n",
    "trace_file = os.path.join(te.res_dir, 'trace.dat')\n",
    "logging.info('#### Save FTrace: %s', trace_file)\n",
    "te.ftrace.get_trace(trace_file)\n",
    "\n",
    "logging.info('#### Save platform description: %s/platform.json', te.res_dir)\n",
    "(plt, plt_file) = te.platform_dump(te.res_dir)"
   ]
  },
  {
   "cell_type": "markdown",
   "metadata": {},
   "source": [
    "# Collected results"
   ]
  },
  {
   "cell_type": "code",
   "execution_count": 7,
   "metadata": {
    "collapsed": false
   },
   "outputs": [
    {
     "name": "stderr",
     "output_type": "stream",
     "text": [
      "04:36:54  INFO    : Content of the output folder /home/derkling/Code/schedtest/results/20151113_163636\n"
     ]
    },
    {
     "name": "stdout",
     "output_type": "stream",
     "text": [
      "total 3300\r\n",
      "drwxrwxr-x  2 derkling derkling    4096 Nov 13 16:36 .\r\n",
      "drwxrwxr-x 38 derkling derkling    4096 Nov 13 16:36 ..\r\n",
      "-rw-rw-r--  1 derkling derkling      52 Nov 13 16:36 energy.json\r\n",
      "-rw-rw-r--  1 derkling derkling     436 Nov 13 16:36 output.log\r\n",
      "-rw-rw-r--  1 derkling derkling     649 Nov 13 16:36 platform.json\r\n",
      "-rw-r--r--  1 derkling derkling    6360 Nov 13 16:36 rt-app-task_p20-0.log\r\n",
      "-rw-r--r--  1 derkling derkling    5120 Nov 13 16:36 rt-app-task_r20_5-60-1.log\r\n",
      "-rw-r--r--  1 derkling derkling    1828 Nov 13 16:36 simple_00.json\r\n",
      "-rw-r--r--  1 derkling derkling 3338240 Nov 13 16:36 trace.dat\r\n"
     ]
    }
   ],
   "source": [
    "# All data are produced in the output folder defined by the TestEnv module\n",
    "logging.info('Content of the output folder %s', te.res_dir)\n",
    "!ls -la {te.res_dir}"
   ]
  },
  {
   "cell_type": "code",
   "execution_count": 8,
   "metadata": {
    "collapsed": false
   },
   "outputs": [
    {
     "name": "stderr",
     "output_type": "stream",
     "text": [
      "04:36:54  INFO    : Generated RTApp JSON file:\n"
     ]
    },
    {
     "name": "stdout",
     "output_type": "stream",
     "text": [
      "{\n",
      "    \"global\": {\n",
      "        \"calibration\": 138, \n",
      "        \"default_policy\": \"SCHED_OTHER\", \n",
      "        \"duration\": -1, \n",
      "        \"logdir\": \"/root/devlib-target\"\n",
      "    }, \n",
      "    \"tasks\": {\n",
      "        \"task_p20\": {\n",
      "            \"cpus\": [\n",
      "                0\n",
      "            ], \n",
      "            \"loop\": 1, \n",
      "            \"phases\": {\n",
      "                \"p000001\": {\n",
      "                    \"loop\": 50, \n",
      "                    \"run\": 20000, \n",
      "                    \"timer\": {\n",
      "                        \"period\": 100000, \n",
      "                        \"ref\": \"task_p20\"\n",
      "                    }\n",
      "                }\n",
      "            }, \n",
      "            \"policy\": \"SCHED_OTHER\"\n",
      "        }, \n",
      "        \"task_r20_5-60\": {\n",
      "            \"cpus\": [\n",
      "                5\n",
      "            ], \n",
      "            \"loop\": 1, \n",
      "            \"phases\": {\n",
      "                \"p000001\": {\n",
      "                    \"loop\": 10, \n",
      "                    \"run\": 5000, \n",
      "                    \"timer\": {\n",
      "                        \"period\": 100000, \n",
      "                        \"ref\": \"task_r20_5-60\"\n",
      "                    }\n",
      "                }, \n",
      "                \"p000002\": {\n",
      "                    \"loop\": 10, \n",
      "                    \"run\": 25000, \n",
      "                    \"timer\": {\n",
      "                        \"period\": 100000, \n",
      "                        \"ref\": \"task_r20_5-60\"\n",
      "                    }\n",
      "                }, \n",
      "                \"p000003\": {\n",
      "                    \"loop\": 10, \n",
      "                    \"run\": 45000, \n",
      "                    \"timer\": {\n",
      "                        \"period\": 100000, \n",
      "                        \"ref\": \"task_r20_5-60\"\n",
      "                    }\n",
      "                }, \n",
      "                \"p000004\": {\n",
      "                    \"loop\": 10, \n",
      "                    \"run\": 65000, \n",
      "                    \"timer\": {\n",
      "                        \"period\": 100000, \n",
      "                        \"ref\": \"task_r20_5-60\"\n",
      "                    }\n",
      "                }\n",
      "            }, \n",
      "            \"policy\": \"SCHED_OTHER\"\n",
      "        }\n",
      "    }\n",
      "}\n"
     ]
    }
   ],
   "source": [
    "# Inspect the JSON file used to run the application\n",
    "with open('{}/simple_00.json'.format(te.res_dir), 'r') as fh:\n",
    "    rtapp_json = json.load(fh, )\n",
    "logging.info('Generated RTApp JSON file:')\n",
    "print json.dumps(rtapp_json, indent=4, sort_keys=True)"
   ]
  },
  {
   "cell_type": "code",
   "execution_count": 9,
   "metadata": {
    "collapsed": false
   },
   "outputs": [
    {
     "name": "stderr",
     "output_type": "stream",
     "text": [
      "04:36:54  INFO    : Energy: /home/derkling/Code/schedtest/results/20151113_163636/energy.json\n"
     ]
    },
    {
     "name": "stdout",
     "output_type": "stream",
     "text": [
      "{\n",
      "    \"LITTLE\": \"9.895538\", \n",
      "    \"big\": \"2.266392\"\n",
      "}\n"
     ]
    }
   ],
   "source": [
    "# Dump the energy measured for the LITTLE and big clusters\n",
    "logging.info('Energy: %s', nrg_file)\n",
    "print json.dumps(nrg, indent=4, sort_keys=True)"
   ]
  },
  {
   "cell_type": "code",
   "execution_count": 10,
   "metadata": {
    "collapsed": false
   },
   "outputs": [
    {
     "name": "stderr",
     "output_type": "stream",
     "text": [
      "04:36:54  INFO    : Platform description: /home/derkling/Code/schedtest/results/20151113_163636/platform.json\n"
     ]
    },
    {
     "name": "stdout",
     "output_type": "stream",
     "text": [
      "{\n",
      "    \"clusters\": {\n",
      "        \"big\": [\n",
      "            1, \n",
      "            2\n",
      "        ], \n",
      "        \"little\": [\n",
      "            0, \n",
      "            3, \n",
      "            4, \n",
      "            5\n",
      "        ]\n",
      "    }, \n",
      "    \"cpus_count\": 6, \n",
      "    \"freqs\": {\n",
      "        \"big\": [\n",
      "            450000, \n",
      "            625000, \n",
      "            800000, \n",
      "            950000, \n",
      "            1100000\n",
      "        ], \n",
      "        \"little\": [\n",
      "            450000, \n",
      "            575000, \n",
      "            700000, \n",
      "            775000, \n",
      "            850000\n",
      "        ]\n",
      "    }, \n",
      "    \"topology\": [\n",
      "        [\n",
      "            0, \n",
      "            3, \n",
      "            4, \n",
      "            5\n",
      "        ], \n",
      "        [\n",
      "            1, \n",
      "            2\n",
      "        ]\n",
      "    ]\n",
      "}\n"
     ]
    }
   ],
   "source": [
    "# Dump the platform descriptor, which could be useful for further analysis\n",
    "# of the generated results\n",
    "logging.info('Platform description: %s', plt_file)\n",
    "print json.dumps(plt, indent=4, sort_keys=True)"
   ]
  },
  {
   "cell_type": "markdown",
   "metadata": {},
   "source": [
    "# Trace inspection"
   ]
  },
  {
   "cell_type": "code",
   "execution_count": 11,
   "metadata": {
    "collapsed": false
   },
   "outputs": [
    {
     "data": {
      "text/html": [
       "<style>\n",
       "/*\n",
       "\n",
       " *    Copyright 2015-2015 ARM Limited\n",
       "\n",
       " *\n",
       "\n",
       " * Licensed under the Apache License, Version 2.0 (the \"License\");\n",
       "\n",
       " * you may not use this file except in compliance with the License.\n",
       "\n",
       " * You may obtain a copy of the License at\n",
       "\n",
       " *\n",
       "\n",
       " *     http://www.apache.org/licenses/LICENSE-2.0\n",
       "\n",
       " *\n",
       "\n",
       " * Unless required by applicable law or agreed to in writing, software\n",
       "\n",
       " * distributed under the License is distributed on an \"AS IS\" BASIS,\n",
       "\n",
       " * WITHOUT WARRANTIES OR CONDITIONS OF ANY KIND, either express or implied.\n",
       "\n",
       " * See the License for the specific language governing permissions and\n",
       "\n",
       " * limitations under the License.\n",
       "\n",
       " */\n",
       "\n",
       "\n",
       "\n",
       ".d3-tip {\n",
       "\n",
       "  line-height: 1;\n",
       "\n",
       "  padding: 12px;\n",
       "\n",
       "  background: rgba(0, 0, 0, 0.6);\n",
       "\n",
       "  color: #fff;\n",
       "\n",
       "  border-radius: 2px;\n",
       "\n",
       "  position: absolute !important;\n",
       "\n",
       "  z-index: 99999;\n",
       "\n",
       "}\n",
       "\n",
       "\n",
       "\n",
       ".d3-tip:after {\n",
       "\n",
       "  box-sizing: border-box;\n",
       "\n",
       "  pointer-events: none;\n",
       "\n",
       "  display: inline;\n",
       "\n",
       "  font-size: 10px;\n",
       "\n",
       "  width: 100%;\n",
       "\n",
       "  line-height: 1;\n",
       "\n",
       "  color: rgba(0, 0, 0, 0.6);\n",
       "\n",
       "  content: \"\\25BC\";\n",
       "\n",
       "  position: absolute !important;\n",
       "\n",
       "  z-index: 99999;\n",
       "\n",
       "  text-align: center;\n",
       "\n",
       "}\n",
       "\n",
       "\n",
       "\n",
       ".d3-tip.n:after {\n",
       "\n",
       "  margin: -1px 0 0 0;\n",
       "\n",
       "  top: 100%;\n",
       "\n",
       "  left: 0;\n",
       "\n",
       "}\n",
       "\n",
       "\n",
       "\n",
       ".contextRect {\n",
       "\n",
       "  fill: lightgray;\n",
       "\n",
       "  fill-opacity: 0.5;\n",
       "\n",
       "  stroke: black;\n",
       "\n",
       "  stroke-width: 1;\n",
       "\n",
       "  stroke-opacity: 1;\n",
       "\n",
       "  pointer-events: none;\n",
       "\n",
       "  shape-rendering: crispEdges;\n",
       "\n",
       "}\n",
       "\n",
       "\n",
       "\n",
       ".chart {\n",
       "\n",
       "  shape-rendering: crispEdges;\n",
       "\n",
       "}\n",
       "\n",
       "\n",
       "\n",
       ".mini text {\n",
       "\n",
       "  font: 9px sans-serif;\n",
       "\n",
       "}\n",
       "\n",
       "\n",
       "\n",
       ".main text {\n",
       "\n",
       "  font: 12px sans-serif;\n",
       "\n",
       "}\n",
       "\n",
       "\n",
       "\n",
       ".axis line, .axis path {\n",
       "\n",
       "  stroke: black;\n",
       "\n",
       "}\n",
       "\n",
       "\n",
       "\n",
       ".miniItem {\n",
       "\n",
       "  stroke-width: 8;\n",
       "\n",
       "}\n",
       "\n",
       "\n",
       "\n",
       ".brush .extent {\n",
       "\n",
       "\n",
       "\n",
       "  stroke: #000;\n",
       "\n",
       "  fill-opacity: .125;\n",
       "\n",
       "  shape-rendering: crispEdges;\n",
       "\n",
       "}\n",
       "\n",
       "</style>\n",
       "<div id=\"fig_af190fbab31d4afa8cf00e8709db89d1\" class=\"eventplot\">\n",
       "        <script>\n",
       "            var req = require.config( {\n",
       "\n",
       "                paths: {\n",
       "\n",
       "                    \"EventPlot\": '/nbextensions/plotter_scripts/EventPlot/EventPlot',\n",
       "                    \"d3-tip\": '/nbextensions/plotter_scripts/EventPlot/d3.tip.v0.6.3',\n",
       "                    \"d3-plotter\": '/nbextensions/plotter_scripts/EventPlot/d3.v3.min'\n",
       "                },\n",
       "                shim: {\n",
       "                    \"d3-plotter\" : {\n",
       "                        \"exports\" : \"d3\"\n",
       "                    },\n",
       "                    \"d3-tip\": [\"d3-plotter\"],\n",
       "                    \"EventPlot\": {\n",
       "\n",
       "                        \"deps\": [\"d3-tip\", \"d3-plotter\" ],\n",
       "                        \"exports\":  \"EventPlot\"\n",
       "                    }\n",
       "                }\n",
       "            });\n",
       "            req([\"require\", \"EventPlot\"], function() {\n",
       "               EventPlot.generate('fig_af190fbab31d4afa8cf00e8709db89d1', '/nbextensions/');\n",
       "            });\n",
       "        </script>\n",
       "        </div>"
      ],
      "text/plain": [
       "<IPython.core.display.HTML object>"
      ]
     },
     "metadata": {},
     "output_type": "display_data"
    }
   ],
   "source": [
    "# NOTE: The interactive trace visualization is available only if you run\n",
    "#       the workload to generate a new trace-file\n",
    "trappy.plotter.plot_trace(te.res_dir)"
   ]
  },
  {
   "cell_type": "markdown",
   "metadata": {},
   "source": [
    "# RTApp task performance plots"
   ]
  },
  {
   "cell_type": "code",
   "execution_count": 12,
   "metadata": {
    "collapsed": false
   },
   "outputs": [
    {
     "name": "stderr",
     "output_type": "stream",
     "text": [
      "04:36:55  INFO    : Found rt-app logfile for task [task_r20_5-60]\n",
      "04:36:55  INFO    : Found rt-app logfile for task [task_p20]\n",
      "04:36:55  INFO    : Loading dataframe for task [task_p20]...\n",
      "04:36:55  INFO    : Loading dataframe for task [task_r20_5-60]...\n",
      "04:36:55  INFO    : PerfIndex, Task [task_p20] avg: 0.59, std: 0.01\n",
      "04:36:55  INFO    : PerfIndex, Task [task_r20_5-60] avg: -4.14, std: 7.68\n"
     ]
    },
    {
     "data": {
      "image/png": "[encoded data removed]",
      "text/plain": [
       "<matplotlib.figure.Figure at 0x7fac48205a90>"
      ]
     },
     "metadata": {},
     "output_type": "display_data"
    },
    {
     "data": {
      "image/png": "[encoded data removed]",
      "text/plain": [
       "<matplotlib.figure.Figure at 0x7fac42a0b850>"
      ]
     },
     "metadata": {},
     "output_type": "display_data"
    }
   ],
   "source": [
    "# Parse the RT-App generate log files to compute performance metrics\n",
    "pa = PerfAnalysis(te.res_dir)\n",
    "\n",
    "# For each task which has generated a logfile, plot  its performance metrics\n",
    "for task in pa.tasks():\n",
    "    pa.plotPerf(task, \"Performance plots for task [{}] \".format(task))"
   ]
  }
 ],
 "metadata": {
  "kernelspec": {
   "display_name": "Python 2",
   "language": "python",
   "name": "python2"
  },
  "language_info": {
   "codemirror_mode": {
    "name": "ipython",
    "version": 2
   },
   "file_extension": ".py",
   "mimetype": "text/x-python",
   "name": "python",
   "nbconvert_exporter": "python",
   "pygments_lexer": "ipython2",
   "version": "2.7.9"
  }
 },
 "nbformat": 4,
 "nbformat_minor": 0
}
