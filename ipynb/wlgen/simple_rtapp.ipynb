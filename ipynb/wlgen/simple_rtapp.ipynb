{
 "cells": [
  {
   "cell_type": "code",
   "execution_count": 1,
   "metadata": {
    "collapsed": true
   },
   "outputs": [],
   "source": [
    "import logging\n",
    "reload(logging)\n",
    "logging.basicConfig(\n",
    "    format='%(asctime)-9s %(levelname)-8s: %(message)s',\n",
    "    datefmt='%I:%M:%S')\n",
    "\n",
    "# Enable logging at INFO level\n",
    "logging.getLogger().setLevel(logging.INFO)\n",
    "# Comment the follwing line to disable devlib debugging statements\n",
    "logging.getLogger('ssh').setLevel(logging.DEBUG)"
   ]
  },
  {
   "cell_type": "code",
   "execution_count": 2,
   "metadata": {
    "collapsed": false
   },
   "outputs": [
    {
     "name": "stdout",
     "output_type": "stream",
     "text": [
      "Populating the interactive namespace from numpy and matplotlib\n"
     ]
    }
   ],
   "source": [
    "%pylab inline\n",
    "\n",
    "import json\n",
    "import os\n",
    "\n",
    "import devlib\n",
    "from env import TestEnv\n",
    "from wlgen import RTA\n",
    "from perf_analysis import PerfAnalysis\n",
    "\n",
    "import trappy"
   ]
  },
  {
   "cell_type": "markdown",
   "metadata": {},
   "source": [
    "# Test environment setup"
   ]
  },
  {
   "cell_type": "code",
   "execution_count": 3,
   "metadata": {
    "collapsed": true
   },
   "outputs": [],
   "source": [
    "# Setup a target configuration\n",
    "my_target_conf = {\n",
    "    \"platform\"    : 'linux',\n",
    "    \"board\"       : 'juno',\n",
    "    \"modules\"     : ['bl', 'cpufreq'],\n",
    "    \"host\"        : '192.168.0.10',\n",
    "    \"username\"    : 'root',\n",
    "    \"password\"    : '',\n",
    "    # Comment the following line to force rt-app calibration on your target\n",
    "    \"rtapp-calib\" : {\n",
    "        '0': 361, '1': 138, '2': 138, '3': 352, '4': 360, '5': 353\n",
    "    }\n",
    "}\n",
    "\n",
    "# Setup the required Test Environment supports\n",
    "my_tests_conf = {\n",
    "    \"modules\" : ['hwmon'],\n",
    "    \"tools\"   : ['rt-app', 'taskset', 'trace-cmd'],\n",
    "    \"ftrace\"  : {\n",
    "         \"events\" : [\n",
    "             \"sched_switch\",\n",
    "             \"cpu_frequency\"\n",
    "         ],\n",
    "         \"buffsize\" : 10240\n",
    "    },\n",
    "    # The kernel to use for the experiments\n",
    "    \"kernel\"  : '../../images/kernel_stune_v5.1.bin'\n",
    "}"
   ]
  },
  {
   "cell_type": "code",
   "execution_count": 4,
   "metadata": {
    "collapsed": false,
    "scrolled": false
   },
   "outputs": [
    {
     "name": "stderr",
     "output_type": "stream",
     "text": [
      "03:56:38  INFO    :         Target - Using base path: /home/derkling/Code/schedtest\n",
      "03:56:38  INFO    : %14s - Loading custom (inline) target configuration\n",
      "03:56:38  INFO    :         Target - Connecing linux target with: {'username': 'root', 'host': '192.168.0.10', 'password': ''}\n",
      "03:56:38  DEBUG   : Logging in root@192.168.0.10\n",
      "03:56:40  DEBUG   : echo $PATH\n",
      "03:56:40  DEBUG   : ls -1 /usr/local/bin\n",
      "03:56:40  DEBUG   : cat /proc/cpuinfo\n",
      "03:56:41  DEBUG   : id\n",
      "03:56:41  DEBUG   : sudo -- sh -c 'dmidecode -s system-version'\n",
      "03:56:42  DEBUG   : uname -m\n",
      "03:56:42  DEBUG   : if [ -e '/sys/devices/system/cpu/cpufreq' ]; then echo 1; else echo 0; fi\n",
      "03:56:43  DEBUG   : if [ -e '/sys/devices/system/cpu/cpu0/cpufreq' ]; then echo 1; else echo 0; fi\n",
      "03:56:43  DEBUG   : if [ -e '/sys/class/hwmon' ]; then echo 1; else echo 0; fi\n",
      "03:56:43  DEBUG   : ls -1 /sys/class/hwmon\n",
      "03:56:44  DEBUG   : if [ -e '/sys/class/hwmon/hwmon0/name' ]; then echo 1; else echo 0; fi\n",
      "03:56:44  DEBUG   : sudo -- sh -c 'cat '\\''/sys/class/hwmon/hwmon0/name'\\'''\n",
      "03:56:45  DEBUG   : ls -1 /sys/class/hwmon/hwmon0/\n",
      "03:56:45  DEBUG   : sudo -- sh -c 'cat '\\''/sys/class/hwmon/hwmon0/curr1_label'\\'''\n",
      "03:56:45  DEBUG   : if [ -e '/sys/class/hwmon/hwmon1/name' ]; then echo 1; else echo 0; fi\n",
      "03:56:46  DEBUG   : sudo -- sh -c 'cat '\\''/sys/class/hwmon/hwmon1/name'\\'''\n",
      "03:56:46  DEBUG   : ls -1 /sys/class/hwmon/hwmon1/\n",
      "03:56:47  DEBUG   : sudo -- sh -c 'cat '\\''/sys/class/hwmon/hwmon1/curr1_label'\\'''\n",
      "03:56:47  DEBUG   : if [ -e '/sys/class/hwmon/hwmon10/name' ]; then echo 1; else echo 0; fi\n",
      "03:56:48  DEBUG   : sudo -- sh -c 'cat '\\''/sys/class/hwmon/hwmon10/name'\\'''\n",
      "03:56:48  DEBUG   : ls -1 /sys/class/hwmon/hwmon10/\n",
      "03:56:48  DEBUG   : sudo -- sh -c 'cat '\\''/sys/class/hwmon/hwmon10/power1_label'\\'''\n",
      "03:56:49  DEBUG   : if [ -e '/sys/class/hwmon/hwmon11/name' ]; then echo 1; else echo 0; fi\n",
      "03:56:49  DEBUG   : sudo -- sh -c 'cat '\\''/sys/class/hwmon/hwmon11/name'\\'''\n",
      "03:56:50  DEBUG   : ls -1 /sys/class/hwmon/hwmon11/\n",
      "03:56:50  DEBUG   : sudo -- sh -c 'cat '\\''/sys/class/hwmon/hwmon11/power1_label'\\'''\n",
      "03:56:50  DEBUG   : if [ -e '/sys/class/hwmon/hwmon12/name' ]; then echo 1; else echo 0; fi\n",
      "03:56:51  DEBUG   : sudo -- sh -c 'cat '\\''/sys/class/hwmon/hwmon12/name'\\'''\n",
      "03:56:51  DEBUG   : ls -1 /sys/class/hwmon/hwmon12/\n",
      "03:56:52  DEBUG   : sudo -- sh -c 'cat '\\''/sys/class/hwmon/hwmon12/energy1_label'\\'''\n",
      "03:56:52  DEBUG   : if [ -e '/sys/class/hwmon/hwmon13/name' ]; then echo 1; else echo 0; fi\n",
      "03:56:53  DEBUG   : sudo -- sh -c 'cat '\\''/sys/class/hwmon/hwmon13/name'\\'''\n",
      "03:56:53  DEBUG   : ls -1 /sys/class/hwmon/hwmon13/\n",
      "03:56:53  DEBUG   : sudo -- sh -c 'cat '\\''/sys/class/hwmon/hwmon13/energy1_label'\\'''\n",
      "03:56:54  DEBUG   : if [ -e '/sys/class/hwmon/hwmon14/name' ]; then echo 1; else echo 0; fi\n",
      "03:56:54  DEBUG   : sudo -- sh -c 'cat '\\''/sys/class/hwmon/hwmon14/name'\\'''\n",
      "03:56:55  DEBUG   : ls -1 /sys/class/hwmon/hwmon14/\n",
      "03:56:55  DEBUG   : sudo -- sh -c 'cat '\\''/sys/class/hwmon/hwmon14/energy1_label'\\'''\n",
      "03:56:55  DEBUG   : if [ -e '/sys/class/hwmon/hwmon15/name' ]; then echo 1; else echo 0; fi\n",
      "03:56:56  DEBUG   : sudo -- sh -c 'cat '\\''/sys/class/hwmon/hwmon15/name'\\'''\n",
      "03:56:56  DEBUG   : ls -1 /sys/class/hwmon/hwmon15/\n",
      "03:56:57  DEBUG   : sudo -- sh -c 'cat '\\''/sys/class/hwmon/hwmon15/energy1_label'\\'''\n",
      "03:56:57  DEBUG   : if [ -e '/sys/class/hwmon/hwmon16/name' ]; then echo 1; else echo 0; fi\n",
      "03:56:58  DEBUG   : sudo -- sh -c 'cat '\\''/sys/class/hwmon/hwmon16/name'\\'''\n",
      "03:56:58  DEBUG   : ls -1 /sys/class/hwmon/hwmon16/\n",
      "03:56:58  DEBUG   : sudo -- sh -c 'cat '\\''/sys/class/hwmon/hwmon16/in0_label'\\'''\n",
      "03:56:59  DEBUG   : sudo -- sh -c 'cat '\\''/sys/class/hwmon/hwmon16/in1_label'\\'''\n",
      "03:56:59  DEBUG   : sudo -- sh -c 'cat '\\''/sys/class/hwmon/hwmon16/in2_label'\\'''\n",
      "03:57:00  DEBUG   : sudo -- sh -c 'cat '\\''/sys/class/hwmon/hwmon16/in3_label'\\'''\n",
      "03:57:00  DEBUG   : sudo -- sh -c 'cat '\\''/sys/class/hwmon/hwmon16/in4_label'\\'''\n",
      "03:57:01  DEBUG   : sudo -- sh -c 'cat '\\''/sys/class/hwmon/hwmon16/in5_label'\\'''\n",
      "03:57:01  DEBUG   : sudo -- sh -c 'cat '\\''/sys/class/hwmon/hwmon16/in6_label'\\'''\n",
      "03:57:01  DEBUG   : sudo -- sh -c 'cat '\\''/sys/class/hwmon/hwmon16/temp1_label'\\'''\n",
      "03:57:02  DEBUG   : sudo -- sh -c 'cat '\\''/sys/class/hwmon/hwmon16/temp2_label'\\'''\n",
      "03:57:02  DEBUG   : if [ -e '/sys/class/hwmon/hwmon2/name' ]; then echo 1; else echo 0; fi\n",
      "03:57:03  DEBUG   : sudo -- sh -c 'cat '\\''/sys/class/hwmon/hwmon2/name'\\'''\n",
      "03:57:03  DEBUG   : ls -1 /sys/class/hwmon/hwmon2/\n",
      "03:57:04  DEBUG   : sudo -- sh -c 'cat '\\''/sys/class/hwmon/hwmon2/curr1_label'\\'''\n",
      "03:57:04  DEBUG   : if [ -e '/sys/class/hwmon/hwmon3/name' ]; then echo 1; else echo 0; fi\n",
      "03:57:04  DEBUG   : sudo -- sh -c 'cat '\\''/sys/class/hwmon/hwmon3/name'\\'''\n",
      "03:57:05  DEBUG   : ls -1 /sys/class/hwmon/hwmon3/\n",
      "03:57:05  DEBUG   : sudo -- sh -c 'cat '\\''/sys/class/hwmon/hwmon3/curr1_label'\\'''\n",
      "03:57:06  DEBUG   : if [ -e '/sys/class/hwmon/hwmon4/name' ]; then echo 1; else echo 0; fi\n",
      "03:57:06  DEBUG   : sudo -- sh -c 'cat '\\''/sys/class/hwmon/hwmon4/name'\\'''\n",
      "03:57:06  DEBUG   : ls -1 /sys/class/hwmon/hwmon4/\n",
      "03:57:07  DEBUG   : sudo -- sh -c 'cat '\\''/sys/class/hwmon/hwmon4/in1_label'\\'''\n",
      "03:57:07  DEBUG   : if [ -e '/sys/class/hwmon/hwmon5/name' ]; then echo 1; else echo 0; fi\n",
      "03:57:08  DEBUG   : sudo -- sh -c 'cat '\\''/sys/class/hwmon/hwmon5/name'\\'''\n",
      "03:57:08  DEBUG   : ls -1 /sys/class/hwmon/hwmon5/\n",
      "03:57:09  DEBUG   : sudo -- sh -c 'cat '\\''/sys/class/hwmon/hwmon5/in1_label'\\'''\n",
      "03:57:09  DEBUG   : if [ -e '/sys/class/hwmon/hwmon6/name' ]; then echo 1; else echo 0; fi\n",
      "03:57:09  DEBUG   : sudo -- sh -c 'cat '\\''/sys/class/hwmon/hwmon6/name'\\'''\n",
      "03:57:10  DEBUG   : ls -1 /sys/class/hwmon/hwmon6/\n",
      "03:57:10  DEBUG   : sudo -- sh -c 'cat '\\''/sys/class/hwmon/hwmon6/in1_label'\\'''\n",
      "03:57:11  DEBUG   : if [ -e '/sys/class/hwmon/hwmon7/name' ]; then echo 1; else echo 0; fi\n",
      "03:57:11  DEBUG   : sudo -- sh -c 'cat '\\''/sys/class/hwmon/hwmon7/name'\\'''\n",
      "03:57:11  DEBUG   : ls -1 /sys/class/hwmon/hwmon7/\n",
      "03:57:12  DEBUG   : sudo -- sh -c 'cat '\\''/sys/class/hwmon/hwmon7/in1_label'\\'''\n",
      "03:57:12  DEBUG   : if [ -e '/sys/class/hwmon/hwmon8/name' ]; then echo 1; else echo 0; fi\n",
      "03:57:13  DEBUG   : sudo -- sh -c 'cat '\\''/sys/class/hwmon/hwmon8/name'\\'''\n",
      "03:57:13  DEBUG   : ls -1 /sys/class/hwmon/hwmon8/\n",
      "03:57:14  DEBUG   : sudo -- sh -c 'cat '\\''/sys/class/hwmon/hwmon8/power1_label'\\'''\n",
      "03:57:14  DEBUG   : if [ -e '/sys/class/hwmon/hwmon9/name' ]; then echo 1; else echo 0; fi\n",
      "03:57:14  DEBUG   : sudo -- sh -c 'cat '\\''/sys/class/hwmon/hwmon9/name'\\'''\n",
      "03:57:15  DEBUG   : ls -1 /sys/class/hwmon/hwmon9/\n",
      "03:57:15  DEBUG   : sudo -- sh -c 'cat '\\''/sys/class/hwmon/hwmon9/power1_label'\\'''\n",
      "03:57:16  INFO    :         Target - Initializing target workdir [/root/devlib-target]\n",
      "03:57:16  DEBUG   : mkdir -p /root/devlib-target\n",
      "03:57:16  DEBUG   : mkdir -p /root/devlib-target/bin\n",
      "03:57:16  DEBUG   : /usr/bin/scp -r   /home/derkling/.local/lib/python2.7/site-packages/devlib/bin/arm64/busybox root@192.168.0.10:/root/devlib-target/bin/busybox\n",
      "03:57:17  DEBUG   : chmod a+x /root/devlib-target/bin/busybox\n",
      "03:57:17  DEBUG   : /usr/bin/scp -r   /home/derkling/Code/schedtest/tools/arm64/taskset root@192.168.0.10:/root/devlib-target/bin/taskset\n",
      "03:57:17  DEBUG   : chmod a+x /root/devlib-target/bin/taskset\n",
      "03:57:18  DEBUG   : /usr/bin/scp -r   /home/derkling/Code/schedtest/tools/arm64/rt-app root@192.168.0.10:/root/devlib-target/bin/rt-app\n",
      "03:57:18  DEBUG   : chmod a+x /root/devlib-target/bin/rt-app\n",
      "03:57:18  DEBUG   : /usr/bin/scp -r   /home/derkling/Code/schedtest/tools/arm64/trace-cmd root@192.168.0.10:/root/devlib-target/bin/trace-cmd\n",
      "03:57:18  DEBUG   : chmod a+x /root/devlib-target/bin/trace-cmd\n",
      "03:57:19  INFO    : Target topology: [[0, 3, 4, 5], [1, 2]]\n",
      "03:57:19  DEBUG   : sudo -- sh -c 'cat '\\''/sys/devices/system/cpu/online'\\'''\n",
      "03:57:19  DEBUG   : cat /sys/devices/system/cpu/cpu0/cpufreq/scaling_available_frequencies\n",
      "03:57:20  DEBUG   : sudo -- sh -c 'cat '\\''/sys/devices/system/cpu/online'\\'''\n",
      "03:57:20  DEBUG   : cat /sys/devices/system/cpu/cpu1/cpufreq/scaling_available_frequencies\n",
      "03:57:20  DEBUG   : /usr/bin/scp -r   /home/derkling/.local/lib/python2.7/site-packages/devlib/bin/arm64/trace-cmd root@192.168.0.10:/root/devlib-target/bin/trace-cmd\n",
      "03:57:21  DEBUG   : chmod a+x /root/devlib-target/bin/trace-cmd\n",
      "03:57:21  INFO    :         FTrace - Enabled events:\n",
      "03:57:21  INFO    :         FTrace -   ['sched_switch', 'cpu_frequency']\n",
      "03:57:21  INFO    :    EnergyMeter - Channels selected for energy sampling:\n",
      "[CHAN(v2m_juno_energy/energy1, a57_energy), CHAN(v2m_juno_energy/energy1, a53_energy)]\n",
      "03:57:21  INFO    : Loading RTApp calibration from configuration file...\n",
      "03:57:21  INFO    : Using RT-App calibration values: {0: 361, 1: 138, 2: 138, 3: 352, 4: 360, 5: 353}\n"
     ]
    }
   ],
   "source": [
    "# Initialize a test environment using:\n",
    "# the provided target configuration (my_target_conf)\n",
    "# the provided test configuration (my_test_conf)\n",
    "te = TestEnv(target_conf=my_target_conf, test_conf=my_tests_conf)\n",
    "target = te.target"
   ]
  },
  {
   "cell_type": "markdown",
   "metadata": {},
   "source": [
    "# Workload configuration"
   ]
  },
  {
   "cell_type": "code",
   "execution_count": 5,
   "metadata": {
    "collapsed": false
   },
   "outputs": [
    {
     "name": "stderr",
     "output_type": "stream",
     "text": [
      "03:57:21  ERROR   : Assuming taskset is preinstalled\n",
      "03:57:21  INFO    : Setup new workload simple\n",
      "03:57:21  INFO    : Workload duration defined by longest task\n",
      "03:57:21  INFO    : Default policy: SCHED_OTHER\n",
      "03:57:21  INFO    : ------------------------\n",
      "03:57:21  INFO    : task [task_p20], sched: using default policy\n",
      "03:57:21  INFO    :  | loops count: 1\n",
      "03:57:21  INFO    :  | CPUs affinity: 0\n",
      "03:57:21  INFO    :  + phase_000001: duration 5.000000 [s] (50 loops)\n",
      "03:57:21  INFO    :  |  period   100000 [us], duty_cycle  20 %\n",
      "03:57:21  INFO    :  |  run_time  20000 [us], sleep_time  80000 [us]\n",
      "03:57:21  INFO    : ------------------------\n",
      "03:57:21  INFO    : task [task_r20_5-60], sched: using default policy\n",
      "03:57:21  INFO    :  | loops count: 1\n",
      "03:57:21  INFO    :  | CPUs affinity: 5\n",
      "03:57:21  INFO    :  + phase_000001: duration 1.000000 [s] (10 loops)\n",
      "03:57:21  INFO    :  |  period   100000 [us], duty_cycle   5 %\n",
      "03:57:21  INFO    :  |  run_time   5000 [us], sleep_time  95000 [us]\n",
      "03:57:21  INFO    :  + phase_000002: duration 1.000000 [s] (10 loops)\n",
      "03:57:21  INFO    :  |  period   100000 [us], duty_cycle  25 %\n",
      "03:57:21  INFO    :  |  run_time  25000 [us], sleep_time  75000 [us]\n",
      "03:57:21  INFO    :  + phase_000003: duration 1.000000 [s] (10 loops)\n",
      "03:57:21  INFO    :  |  period   100000 [us], duty_cycle  45 %\n",
      "03:57:21  INFO    :  |  run_time  45000 [us], sleep_time  55000 [us]\n",
      "03:57:21  INFO    :  + phase_000004: duration 1.000000 [s] (10 loops)\n",
      "03:57:21  INFO    :  |  period   100000 [us], duty_cycle  65 %\n",
      "03:57:21  INFO    :  |  run_time  65000 [us], sleep_time  35000 [us]\n",
      "03:57:21  DEBUG   : /usr/bin/scp -r   simple_00.json root@192.168.0.10:/root/devlib-target\n"
     ]
    }
   ],
   "source": [
    "rtapp = RTA(target, 'simple', calibration=te.calibration())\n",
    "rtapp.conf(\n",
    "    kind='profile',\n",
    "    params={\n",
    "        'task_p20': RTA.periodic(\n",
    "            period_ms=100,\n",
    "            duty_cycle_pct=20,\n",
    "            duration_s=5,\n",
    "            # Run this task on the first CPU of the target\n",
    "            cpus='0'),\n",
    "        'task_r20_5-60': RTA.ramp(\n",
    "            start_pct=5,\n",
    "            end_pct=65,\n",
    "            delta_pct=20,\n",
    "            # Run this task on the last CPU of the target\n",
    "            cpus=str(len(target.core_names)-1)),\n",
    "    },\n",
    "    run_dir=target.working_directory\n",
    ");"
   ]
  },
  {
   "cell_type": "markdown",
   "metadata": {},
   "source": [
    "# Workload execution"
   ]
  },
  {
   "cell_type": "code",
   "execution_count": 6,
   "metadata": {
    "collapsed": false
   },
   "outputs": [
    {
     "name": "stderr",
     "output_type": "stream",
     "text": [
      "03:57:21  INFO    : #### Setup FTrace\n",
      "03:57:21  DEBUG   : sudo -- sh -c 'echo 10240 > '\\''/sys/kernel/debug/tracing/buffer_size_kb'\\'''\n",
      "03:57:22  DEBUG   : sudo -- sh -c 'cat '\\''/sys/kernel/debug/tracing/buffer_size_kb'\\'''\n",
      "03:57:22  DEBUG   : sudo -- sh -c '/root/devlib-target/bin/trace-cmd reset'\n",
      "03:57:25  DEBUG   : sudo -- sh -c 'echo TRACE_MARKER_START > '\\''/sys/kernel/debug/tracing/trace_marker'\\'''\n",
      "03:57:25  DEBUG   : sudo -- sh -c '/root/devlib-target/bin/trace-cmd start -e sched_switch -e cpu_frequency'\n",
      "03:57:27  INFO    : #### Start energy sampling\n",
      "03:57:28  DEBUG   : sudo -- sh -c 'cat '\\''/sys/class/hwmon/hwmon13/energy1_input'\\'''\n",
      "03:57:28  DEBUG   : sudo -- sh -c 'cat '\\''/sys/class/hwmon/hwmon14/energy1_input'\\'''\n",
      "03:57:28  INFO    : #### Start RTApp execution\n",
      "03:57:28  INFO    : Executor [start]: /root/devlib-target/bin/rt-app /root/devlib-target/simple_00.json\n",
      "03:57:28  DEBUG   : /root/devlib-target/bin/rt-app /root/devlib-target/simple_00.json\n",
      "03:57:34  DEBUG   : /usr/bin/scp -r   root@192.168.0.10:'/root/devlib-target/*task_p20*.log' /home/derkling/Code/schedtest/results/20151113_155721\n",
      "03:57:34  DEBUG   : /usr/bin/scp -r   root@192.168.0.10:'/root/devlib-target/*task_r20_5-60*.log' /home/derkling/Code/schedtest/results/20151113_155721\n",
      "03:57:34  DEBUG   : /usr/bin/scp -r   root@192.168.0.10:/root/devlib-target/simple_00.json /home/derkling/Code/schedtest/results/20151113_155721\n",
      "03:57:34  INFO    : Executor [end]: /root/devlib-target/bin/rt-app /root/devlib-target/simple_00.json\n",
      "03:57:34  INFO    : #### Read energy consumption: /home/derkling/Code/schedtest/results/20151113_155721/energy.json\n",
      "03:57:34  DEBUG   : sudo -- sh -c 'cat '\\''/sys/class/hwmon/hwmon13/energy1_input'\\'''\n",
      "03:57:34  DEBUG   : sudo -- sh -c 'cat '\\''/sys/class/hwmon/hwmon14/energy1_input'\\'''\n",
      "03:57:35  INFO    :   EnergyReport - Energy [             a53]: 9.813567\n",
      "03:57:35  INFO    :   EnergyReport - Energy [             a57]: 2.382257\n",
      "03:57:35  INFO    : #### Stop FTrace\n",
      "03:57:35  DEBUG   : sudo -- sh -c 'echo TRACE_MARKER_STOP > '\\''/sys/kernel/debug/tracing/trace_marker'\\'''\n",
      "03:57:35  DEBUG   : sudo -- sh -c '/root/devlib-target/bin/trace-cmd stop'\n",
      "03:57:35  INFO    : #### Save FTrace: /home/derkling/Code/schedtest/results/20151113_155721/trace.dat\n",
      "03:57:35  DEBUG   : sudo -- sh -c '/root/devlib-target/bin/trace-cmd extract -o /root/devlib-target/trace.dat'\n",
      "03:57:39  DEBUG   : /usr/bin/scp -r   root@192.168.0.10:/root/devlib-target/trace.dat /home/derkling/Code/schedtest/results/20151113_155721/trace.dat\n",
      "03:57:39  INFO    : #### Save platform description: /home/derkling/Code/schedtest/results/20151113_155721/platform.json\n"
     ]
    }
   ],
   "source": [
    "logging.info('#### Setup FTrace')\n",
    "te.ftrace.start()\n",
    "\n",
    "logging.info('#### Start energy sampling')\n",
    "te.emeter.reset()\n",
    "\n",
    "logging.info('#### Start RTApp execution')\n",
    "rtapp.run(out_dir=te.res_dir)\n",
    "\n",
    "logging.info('#### Read energy consumption: %s/energy.json', te.res_dir)\n",
    "(nrg, nrg_file) = te.emeter.report(out_dir=te.res_dir)\n",
    "\n",
    "logging.info('#### Stop FTrace')\n",
    "te.ftrace.stop()\n",
    "\n",
    "trace_file = os.path.join(te.res_dir, 'trace.dat')\n",
    "logging.info('#### Save FTrace: %s', trace_file)\n",
    "te.ftrace.get_trace(trace_file)\n",
    "\n",
    "logging.info('#### Save platform description: %s/platform.json', te.res_dir)\n",
    "te.platform_dump(te.res_dir)"
   ]
  },
  {
   "cell_type": "code",
   "execution_count": 7,
   "metadata": {
    "collapsed": false
   },
   "outputs": [
    {
     "name": "stderr",
     "output_type": "stream",
     "text": [
      "03:57:39  INFO    : Content of the output folder /home/derkling/Code/schedtest/results/20151113_155721\n"
     ]
    },
    {
     "name": "stdout",
     "output_type": "stream",
     "text": [
      "total 3300\r\n",
      "drwxrwxr-x  2 derkling derkling    4096 Nov 13 15:57 .\r\n",
      "drwxrwxr-x 35 derkling derkling    4096 Nov 13 15:57 ..\r\n",
      "-rw-rw-r--  1 derkling derkling      52 Nov 13 15:57 energy.json\r\n",
      "-rw-rw-r--  1 derkling derkling     436 Nov 13 15:57 output.log\r\n",
      "-rw-rw-r--  1 derkling derkling     649 Nov 13 15:57 platform.json\r\n",
      "-rw-r--r--  1 derkling derkling    6360 Nov 13 15:57 rt-app-task_p20-0.log\r\n",
      "-rw-r--r--  1 derkling derkling    5120 Nov 13 15:57 rt-app-task_r20_5-60-1.log\r\n",
      "-rw-r--r--  1 derkling derkling    1828 Nov 13 15:57 simple_00.json\r\n",
      "-rw-r--r--  1 derkling derkling 3338240 Nov 13 15:57 trace.dat\r\n"
     ]
    }
   ],
   "source": [
    "logging.info('Content of the output folder %s', te.res_dir)\n",
    "!ls -la {te.res_dir}"
   ]
  },
  {
   "cell_type": "code",
   "execution_count": 8,
   "metadata": {
    "collapsed": false
   },
   "outputs": [
    {
     "name": "stderr",
     "output_type": "stream",
     "text": [
      "03:57:39  INFO    : Energy: /home/derkling/Code/schedtest/results/20151113_155721/energy.json\n",
      "03:57:39  INFO    :         {\"big\": \"2.382257\", \"LITTLE\": \"9.813567\"}\n"
     ]
    }
   ],
   "source": [
    "logging.info('Energy: %s', nrg_file)\n",
    "logging.info('        %s', json.dumps(nrg))"
   ]
  },
  {
   "cell_type": "markdown",
   "metadata": {},
   "source": [
    "# Trace inspection"
   ]
  },
  {
   "cell_type": "code",
   "execution_count": 9,
   "metadata": {
    "collapsed": false
   },
   "outputs": [
    {
     "data": {
      "text/html": [
       "<style>\n",
       "/*\n",
       "\n",
       " *    Copyright 2015-2015 ARM Limited\n",
       "\n",
       " *\n",
       "\n",
       " * Licensed under the Apache License, Version 2.0 (the \"License\");\n",
       "\n",
       " * you may not use this file except in compliance with the License.\n",
       "\n",
       " * You may obtain a copy of the License at\n",
       "\n",
       " *\n",
       "\n",
       " *     http://www.apache.org/licenses/LICENSE-2.0\n",
       "\n",
       " *\n",
       "\n",
       " * Unless required by applicable law or agreed to in writing, software\n",
       "\n",
       " * distributed under the License is distributed on an \"AS IS\" BASIS,\n",
       "\n",
       " * WITHOUT WARRANTIES OR CONDITIONS OF ANY KIND, either express or implied.\n",
       "\n",
       " * See the License for the specific language governing permissions and\n",
       "\n",
       " * limitations under the License.\n",
       "\n",
       " */\n",
       "\n",
       "\n",
       "\n",
       ".d3-tip {\n",
       "\n",
       "  line-height: 1;\n",
       "\n",
       "  padding: 12px;\n",
       "\n",
       "  background: rgba(0, 0, 0, 0.6);\n",
       "\n",
       "  color: #fff;\n",
       "\n",
       "  border-radius: 2px;\n",
       "\n",
       "  position: absolute !important;\n",
       "\n",
       "  z-index: 99999;\n",
       "\n",
       "}\n",
       "\n",
       "\n",
       "\n",
       ".d3-tip:after {\n",
       "\n",
       "  box-sizing: border-box;\n",
       "\n",
       "  pointer-events: none;\n",
       "\n",
       "  display: inline;\n",
       "\n",
       "  font-size: 10px;\n",
       "\n",
       "  width: 100%;\n",
       "\n",
       "  line-height: 1;\n",
       "\n",
       "  color: rgba(0, 0, 0, 0.6);\n",
       "\n",
       "  content: \"\\25BC\";\n",
       "\n",
       "  position: absolute !important;\n",
       "\n",
       "  z-index: 99999;\n",
       "\n",
       "  text-align: center;\n",
       "\n",
       "}\n",
       "\n",
       "\n",
       "\n",
       ".d3-tip.n:after {\n",
       "\n",
       "  margin: -1px 0 0 0;\n",
       "\n",
       "  top: 100%;\n",
       "\n",
       "  left: 0;\n",
       "\n",
       "}\n",
       "\n",
       "\n",
       "\n",
       ".contextRect {\n",
       "\n",
       "  fill: lightgray;\n",
       "\n",
       "  fill-opacity: 0.5;\n",
       "\n",
       "  stroke: black;\n",
       "\n",
       "  stroke-width: 1;\n",
       "\n",
       "  stroke-opacity: 1;\n",
       "\n",
       "  pointer-events: none;\n",
       "\n",
       "  shape-rendering: crispEdges;\n",
       "\n",
       "}\n",
       "\n",
       "\n",
       "\n",
       ".chart {\n",
       "\n",
       "  shape-rendering: crispEdges;\n",
       "\n",
       "}\n",
       "\n",
       "\n",
       "\n",
       ".mini text {\n",
       "\n",
       "  font: 9px sans-serif;\n",
       "\n",
       "}\n",
       "\n",
       "\n",
       "\n",
       ".main text {\n",
       "\n",
       "  font: 12px sans-serif;\n",
       "\n",
       "}\n",
       "\n",
       "\n",
       "\n",
       ".axis line, .axis path {\n",
       "\n",
       "  stroke: black;\n",
       "\n",
       "}\n",
       "\n",
       "\n",
       "\n",
       ".miniItem {\n",
       "\n",
       "  stroke-width: 8;\n",
       "\n",
       "}\n",
       "\n",
       "\n",
       "\n",
       ".brush .extent {\n",
       "\n",
       "\n",
       "\n",
       "  stroke: #000;\n",
       "\n",
       "  fill-opacity: .125;\n",
       "\n",
       "  shape-rendering: crispEdges;\n",
       "\n",
       "}\n",
       "\n",
       "</style>\n",
       "<div id=\"fig_741c7cdfaa1b499dbe8413eca60d0d9c\" class=\"eventplot\">\n",
       "        <script>\n",
       "            var req = require.config( {\n",
       "\n",
       "                paths: {\n",
       "\n",
       "                    \"EventPlot\": '/nbextensions/plotter_scripts/EventPlot/EventPlot',\n",
       "                    \"d3-tip\": '/nbextensions/plotter_scripts/EventPlot/d3.tip.v0.6.3',\n",
       "                    \"d3-plotter\": '/nbextensions/plotter_scripts/EventPlot/d3.v3.min'\n",
       "                },\n",
       "                shim: {\n",
       "                    \"d3-plotter\" : {\n",
       "                        \"exports\" : \"d3\"\n",
       "                    },\n",
       "                    \"d3-tip\": [\"d3-plotter\"],\n",
       "                    \"EventPlot\": {\n",
       "\n",
       "                        \"deps\": [\"d3-tip\", \"d3-plotter\" ],\n",
       "                        \"exports\":  \"EventPlot\"\n",
       "                    }\n",
       "                }\n",
       "            });\n",
       "            req([\"require\", \"EventPlot\"], function() {\n",
       "               EventPlot.generate('fig_741c7cdfaa1b499dbe8413eca60d0d9c', '/nbextensions/');\n",
       "            });\n",
       "        </script>\n",
       "        </div>"
      ],
      "text/plain": [
       "<IPython.core.display.HTML object>"
      ]
     },
     "metadata": {},
     "output_type": "display_data"
    }
   ],
   "source": [
    "# NOTE: The interactive trace visualization is available only if you run\n",
    "#       the workload to generate a new trace-file\n",
    "trappy.plotter.plot_trace(te.res_dir)"
   ]
  },
  {
   "cell_type": "markdown",
   "metadata": {},
   "source": [
    "# RTApp task performance plots"
   ]
  },
  {
   "cell_type": "code",
   "execution_count": 10,
   "metadata": {
    "collapsed": false
   },
   "outputs": [
    {
     "name": "stderr",
     "output_type": "stream",
     "text": [
      "03:57:40  INFO    : Found rt-app logfile for task [task_r20_5-60]\n",
      "03:57:40  INFO    : Found rt-app logfile for task [task_p20]\n",
      "03:57:40  INFO    : Loading dataframe for task [task_p20]...\n",
      "03:57:40  INFO    : Loading dataframe for task [task_r20_5-60]...\n",
      "03:57:40  INFO    : PerfIndex, Task [task_p20] avg: 0.59, std: 0.01\n",
      "03:57:40  INFO    : PerfIndex, Task [task_r20_5-60] avg: -4.17, std: 7.72\n"
     ]
    },
    {
     "data": {
      "image/png": "[encoded data removed]",
      "text/plain": [
       "<matplotlib.figure.Figure at 0x7f1274cc6910>"
      ]
     },
     "metadata": {},
     "output_type": "display_data"
    },
    {
     "data": {
      "image/png": "[encoded data removed]",
      "text/plain": [
       "<matplotlib.figure.Figure at 0x7f1273530550>"
      ]
     },
     "metadata": {},
     "output_type": "display_data"
    }
   ],
   "source": [
    "# Parse the RT-App generate log files to compute performance metrics\n",
    "pa = PerfAnalysis(te.res_dir)\n",
    "\n",
    "# For each task which has generated a logfile, plot  its performance metrics\n",
    "for task in pa.tasks():\n",
    "    pa.plotPerf(task, \"Performance plots for task [{}] \".format(task))"
   ]
  }
 ],
 "metadata": {
  "kernelspec": {
   "display_name": "Python 2",
   "language": "python",
   "name": "python2"
  },
  "language_info": {
   "codemirror_mode": {
    "name": "ipython",
    "version": 2
   },
   "file_extension": ".py",
   "mimetype": "text/x-python",
   "name": "python",
   "nbconvert_exporter": "python",
   "pygments_lexer": "ipython2",
   "version": "2.7.9"
  }
 },
 "nbformat": 4,
 "nbformat_minor": 0
}
