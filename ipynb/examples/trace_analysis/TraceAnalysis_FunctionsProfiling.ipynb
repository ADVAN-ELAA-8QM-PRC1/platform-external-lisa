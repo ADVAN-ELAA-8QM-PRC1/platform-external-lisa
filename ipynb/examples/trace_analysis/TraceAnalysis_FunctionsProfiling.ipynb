{
 "cells": [
  {
   "cell_type": "markdown",
   "metadata": {},
   "source": [
    "<font size=\"8\">Trace Analysis Examples</font>\n",
    "<br>\n",
    "<font size=\"5\">Kernel Functions Profiling</font>\n",
    "<br>\n",
    "<hr>"
   ]
  },
  {
   "cell_type": "markdown",
   "metadata": {},
   "source": [
    "# Import Required Modules"
   ]
  },
  {
   "cell_type": "code",
   "execution_count": 1,
   "metadata": {
    "collapsed": true
   },
   "outputs": [],
   "source": [
    "import logging\n",
    "reload(logging)\n",
    "logging.basicConfig(\n",
    "    format='%(asctime)-9s %(levelname)-8s: %(message)s',\n",
    "    datefmt='%I:%M:%S')\n",
    "\n",
    "# Enable logging at INFO level\n",
    "logging.getLogger().setLevel(logging.INFO)"
   ]
  },
  {
   "cell_type": "code",
   "execution_count": 2,
   "metadata": {
    "collapsed": false
   },
   "outputs": [
    {
     "name": "stdout",
     "output_type": "stream",
     "text": [
      "Populating the interactive namespace from numpy and matplotlib\n"
     ]
    }
   ],
   "source": [
    "# Generate plots inline\n",
    "%matplotlib inline\n",
    "\n",
    "import json\n",
    "import os\n",
    "\n",
    "# Support to access the remote target\n",
    "import devlib\n",
    "from env import TestEnv\n",
    "\n",
    "# RTApp configurator for generation of PERIODIC tasks\n",
    "from wlgen import RTA, Ramp\n",
    "\n",
    "# Support for trace events analysis\n",
    "from trace import Trace\n",
    "from trace_analysis import TraceAnalysis"
   ]
  },
  {
   "cell_type": "markdown",
   "metadata": {},
   "source": [
    "# Target Configuration"
   ]
  },
  {
   "cell_type": "code",
   "execution_count": 3,
   "metadata": {
    "collapsed": false
   },
   "outputs": [],
   "source": [
    "# Setup target configuration\n",
    "my_conf = {\n",
    "\n",
    "    # Target platform and board\n",
    "    \"platform\"    : 'linux',\n",
    "    \"board\"       : 'juno',\n",
    "    \"host\"        : '192.168.0.1',\n",
    "\n",
    "    # Folder where all the results will be collected\n",
    "    \"results_dir\" : \"TraceAnalysis_FunctionsProfiling\",\n",
    "\n",
    "    # Define devlib modules to load\n",
    "    \"exclude_modules\" : [ 'hwmon' ],\n",
    "\n",
    "    # FTrace events to collect for all the tests configuration which have\n",
    "    # the \"ftrace\" flag enabled\n",
    "    \"ftrace\"  : {\n",
    "        \"functions\" : [\n",
    "            \"pick_next_task_fair\",\n",
    "            \"select_task_rq_fair\",\n",
    "            \"enqueue_task_fair\",\n",
    "            \"update_curr_fair\",\n",
    "            \"dequeue_task_fair\",\n",
    "        ],\n",
    "        \n",
    "         \"buffsize\" : 100 * 1024,\n",
    "    },\n",
    "\n",
    "    # Tools required by the experiments\n",
    "    \"tools\"   : [ 'trace-cmd', 'rt-app' ],\n",
    "    \n",
    "    # Comment this line to calibrate RTApp in your own platform\n",
    "    \"rtapp-calib\" :  {\"0\": 360, \"1\": 142, \"2\": 138, \"3\": 352, \"4\": 352, \"5\": 353},\n",
    "}"
   ]
  },
  {
   "cell_type": "code",
   "execution_count": 4,
   "metadata": {
    "collapsed": false,
    "scrolled": false
   },
   "outputs": [
    {
     "name": "stderr",
     "output_type": "stream",
     "text": [
      "03:35:25  INFO    :         Target - Using base path: /home/derkling/Code/lisa\n",
      "03:35:25  INFO    :         Target - Loading custom (inline) target configuration\n",
      "03:35:25  INFO    :         Target - Devlib modules to load: ['bl', 'cpufreq']\n",
      "03:35:25  INFO    :         Target - Connecting linux target:\n",
      "03:35:25  INFO    :         Target -   username : root\n",
      "03:35:25  INFO    :         Target -       host : 192.168.0.1\n",
      "03:35:25  INFO    :         Target -   password : \n",
      "03:35:25  INFO    :         Target - Connection settings:\n",
      "03:35:25  INFO    :         Target -    {'username': 'root', 'host': '192.168.0.1', 'password': ''}\n",
      "03:35:29  INFO    :         Target - Initializing target workdir:\n",
      "03:35:29  INFO    :         Target -    /root/devlib-target\n",
      "03:35:34  INFO    :         Target - Topology:\n",
      "03:35:34  INFO    :         Target -    [[0, 3, 4, 5], [1, 2]]\n",
      "03:35:35  INFO    :       Platform - Loading default EM:\n",
      "03:35:35  INFO    :       Platform -    /home/derkling/Code/lisa/libs/utils/platforms/juno.json\n",
      "03:35:38  INFO    :         FTrace - Enabled tracepoints:\n",
      "03:35:38  INFO    :         FTrace -   sched:*\n",
      "03:35:38  INFO    :         FTrace - Kernel functions profiled:\n",
      "03:35:38  INFO    :         FTrace -   pick_next_task_fair\n",
      "03:35:38  INFO    :         FTrace -   select_task_rq_fair\n",
      "03:35:38  INFO    :         FTrace -   enqueue_task_fair\n",
      "03:35:38  INFO    :         FTrace -   update_curr_fair\n",
      "03:35:38  INFO    :         FTrace -   dequeue_task_fair\n",
      "03:35:38  WARNING :         Target - Using configuration provided RTApp calibration\n",
      "03:35:38  INFO    :         Target - Using RT-App calibration values:\n",
      "03:35:38  INFO    :         Target -    {\"0\": 360, \"1\": 142, \"2\": 138, \"3\": 352, \"4\": 352, \"5\": 353}\n",
      "03:35:38  INFO    :    EnergyMeter - HWMON module not enabled\n",
      "03:35:38  WARNING :    EnergyMeter - Energy sampling disabled by configuration\n",
      "03:35:38  INFO    :        TestEnv - Set results folder to:\n",
      "03:35:38  INFO    :        TestEnv -    /home/derkling/Code/lisa/results/TraceAnalysis_FunctionsProfiling\n",
      "03:35:38  INFO    :        TestEnv - Experiment results available also in:\n",
      "03:35:38  INFO    :        TestEnv -    /home/derkling/Code/lisa/results_latest\n"
     ]
    }
   ],
   "source": [
    "# Initialize a test environment using:\n",
    "te = TestEnv(my_conf, wipe=False, force_new=True)\n",
    "target = te.target"
   ]
  },
  {
   "cell_type": "markdown",
   "metadata": {},
   "source": [
    "# Workload Execution and Functions Profiling Data Collection"
   ]
  },
  {
   "cell_type": "code",
   "execution_count": 5,
   "metadata": {
    "collapsed": true
   },
   "outputs": [],
   "source": [
    "def experiment(te):\n",
    "\n",
    "    # Create and RTApp RAMP task\n",
    "    rtapp = RTA(te.target, 'ramp', calibration=te.calibration())\n",
    "    rtapp.conf(kind='profile',\n",
    "               params={\n",
    "                    'ramp' : Ramp(\n",
    "                        start_pct =  60,\n",
    "                        end_pct   =  20,\n",
    "                        delta_pct =   5,\n",
    "                        time_s    =   0.5).get()\n",
    "              })\n",
    "\n",
    "    # FTrace the execution of this workload\n",
    "    te.ftrace.start()\n",
    "    rtapp.run(out_dir=te.res_dir)\n",
    "    te.ftrace.stop()\n",
    "\n",
    "    # Collect and keep track of the trace\n",
    "    trace_file = os.path.join(te.res_dir, 'trace.dat')\n",
    "    te.ftrace.get_trace(trace_file)\n",
    "    \n",
    "    # Collect and keep track of the Kernel Functions performance data\n",
    "    stats_file = os.path.join(te.res_dir, 'trace.stats')\n",
    "    te.ftrace.get_stats(stats_file)\n",
    "\n",
    "    # Dump platform descriptor\n",
    "    te.platform_dump(te.res_dir)"
   ]
  },
  {
   "cell_type": "code",
   "execution_count": 6,
   "metadata": {
    "collapsed": false
   },
   "outputs": [
    {
     "name": "stderr",
     "output_type": "stream",
     "text": [
      "03:35:38  INFO    :          WlGen - Setup new workload ramp\n",
      "03:35:38  INFO    :          RTApp - Workload duration defined by longest task\n",
      "03:35:38  INFO    :          RTApp - Default policy: SCHED_OTHER\n",
      "03:35:38  INFO    :          RTApp - ------------------------\n",
      "03:35:38  INFO    :          RTApp - task [ramp], sched: using default policy\n",
      "03:35:38  INFO    :          RTApp -  | calibration CPU: 1\n",
      "03:35:38  INFO    :          RTApp -  | loops count: 1\n",
      "03:35:38  INFO    :          RTApp - + phase_000001: duration 0.500000 [s] (5 loops)\n",
      "03:35:38  INFO    :          RTApp - |  period   100000 [us], duty_cycle  60 %\n",
      "03:35:38  INFO    :          RTApp - |  run_time  60000 [us], sleep_time  40000 [us]\n",
      "03:35:38  INFO    :          RTApp - + phase_000002: duration 0.500000 [s] (5 loops)\n",
      "03:35:38  INFO    :          RTApp - |  period   100000 [us], duty_cycle  55 %\n",
      "03:35:38  INFO    :          RTApp - |  run_time  55000 [us], sleep_time  45000 [us]\n",
      "03:35:38  INFO    :          RTApp - + phase_000003: duration 0.500000 [s] (5 loops)\n",
      "03:35:38  INFO    :          RTApp - |  period   100000 [us], duty_cycle  50 %\n",
      "03:35:38  INFO    :          RTApp - |  run_time  50000 [us], sleep_time  50000 [us]\n",
      "03:35:38  INFO    :          RTApp - + phase_000004: duration 0.500000 [s] (5 loops)\n",
      "03:35:38  INFO    :          RTApp - |  period   100000 [us], duty_cycle  45 %\n",
      "03:35:38  INFO    :          RTApp - |  run_time  45000 [us], sleep_time  55000 [us]\n",
      "03:35:38  INFO    :          RTApp - + phase_000005: duration 0.500000 [s] (5 loops)\n",
      "03:35:38  INFO    :          RTApp - |  period   100000 [us], duty_cycle  40 %\n",
      "03:35:38  INFO    :          RTApp - |  run_time  40000 [us], sleep_time  60000 [us]\n",
      "03:35:38  INFO    :          RTApp - + phase_000006: duration 0.500000 [s] (5 loops)\n",
      "03:35:38  INFO    :          RTApp - |  period   100000 [us], duty_cycle  35 %\n",
      "03:35:38  INFO    :          RTApp - |  run_time  35000 [us], sleep_time  65000 [us]\n",
      "03:35:38  INFO    :          RTApp - + phase_000007: duration 0.500000 [s] (5 loops)\n",
      "03:35:38  INFO    :          RTApp - |  period   100000 [us], duty_cycle  30 %\n",
      "03:35:38  INFO    :          RTApp - |  run_time  30000 [us], sleep_time  70000 [us]\n",
      "03:35:38  INFO    :          RTApp - + phase_000008: duration 0.500000 [s] (5 loops)\n",
      "03:35:38  INFO    :          RTApp - |  period   100000 [us], duty_cycle  25 %\n",
      "03:35:38  INFO    :          RTApp - |  run_time  25000 [us], sleep_time  75000 [us]\n",
      "03:35:38  INFO    :          RTApp - + phase_000009: duration 0.500000 [s] (5 loops)\n",
      "03:35:38  INFO    :          RTApp - |  period   100000 [us], duty_cycle  20 %\n",
      "03:35:38  INFO    :          RTApp - |  run_time  20000 [us], sleep_time  80000 [us]\n",
      "03:35:44  INFO    :          WlGen - Workload execution START:\n",
      "03:35:44  INFO    :          WlGen -    /root/devlib-target/bin/rt-app /root/devlib-target/ramp_00.json 2>&1\n"
     ]
    }
   ],
   "source": [
    "experiment(te)"
   ]
  },
  {
   "cell_type": "markdown",
   "metadata": {},
   "source": [
    "# Parse Trace and Profiling Data"
   ]
  },
  {
   "cell_type": "code",
   "execution_count": 7,
   "metadata": {
    "collapsed": false
   },
   "outputs": [
    {
     "name": "stderr",
     "output_type": "stream",
     "text": [
      "03:35:53  INFO    : Content of the output folder /home/derkling/Code/lisa/results/TraceAnalysis_FunctionsProfiling\n"
     ]
    },
    {
     "name": "stdout",
     "output_type": "stream",
     "text": [
      "\u001b[01;34m/home/derkling/Code/lisa/results/TraceAnalysis_FunctionsProfiling\u001b[00m\r\n",
      "├── output.log\r\n",
      "├── platform.json\r\n",
      "├── ramp_00.json\r\n",
      "├── rt-app-ramp-0.log\r\n",
      "├── trace.dat\r\n",
      "├── trace.raw.txt\r\n",
      "├── trace.stats\r\n",
      "└── trace.txt\r\n",
      "\r\n",
      "0 directories, 8 files\r\n"
     ]
    }
   ],
   "source": [
    "# Base folder where tests folder are located\n",
    "res_dir = te.res_dir\n",
    "logging.info('Content of the output folder %s', res_dir)\n",
    "!tree {res_dir}"
   ]
  },
  {
   "cell_type": "code",
   "execution_count": 8,
   "metadata": {
    "collapsed": false
   },
   "outputs": [
    {
     "name": "stderr",
     "output_type": "stream",
     "text": [
      "03:35:53  INFO    : LITTLE cluster max capacity: 447\n"
     ]
    }
   ],
   "source": [
    "with open(os.path.join(res_dir, 'platform.json'), 'r') as fh:\n",
    "    platform = json.load(fh)\n",
    "#print json.dumps(platform, indent=4)\n",
    "logging.info('LITTLE cluster max capacity: %d',\n",
    "             platform['nrg_model']['little']['cpu']['cap_max'])"
   ]
  },
  {
   "cell_type": "code",
   "execution_count": 9,
   "metadata": {
    "collapsed": false
   },
   "outputs": [
    {
     "name": "stderr",
     "output_type": "stream",
     "text": [
      "03:35:53  INFO    : Parsing FTrace format...\n",
      "03:35:54  INFO    : Trace contains onlt functions stats\n",
      "03:35:54  INFO    : Collected events spans a 0.000 [s] time interval\n",
      "03:35:54  INFO    : Set plots time range to (0.000000, 0.000000)[s]\n"
     ]
    }
   ],
   "source": [
    "trace = Trace(platform, res_dir, events=[])\n",
    "ta = TraceAnalysis(trace)"
   ]
  },
  {
   "cell_type": "markdown",
   "metadata": {},
   "source": [
    "# Report Functions Profiling Data"
   ]
  },
  {
   "cell_type": "code",
   "execution_count": 10,
   "metadata": {
    "collapsed": false
   },
   "outputs": [
    {
     "data": {
      "text/html": [
       "<div>\n",
       "<table border=\"1\" class=\"dataframe\">\n",
       "  <thead>\n",
       "    <tr style=\"text-align: right;\">\n",
       "      <th></th>\n",
       "      <th></th>\n",
       "      <th>hits</th>\n",
       "      <th>avg</th>\n",
       "      <th>time</th>\n",
       "      <th>s_2</th>\n",
       "    </tr>\n",
       "  </thead>\n",
       "  <tbody>\n",
       "    <tr>\n",
       "      <th rowspan=\"2\" valign=\"top\">0</th>\n",
       "      <th>dequeue_task_fair</th>\n",
       "      <td>534</td>\n",
       "      <td>3.139</td>\n",
       "      <td>1676.40</td>\n",
       "      <td>4.969</td>\n",
       "    </tr>\n",
       "    <tr>\n",
       "      <th>enqueue_task_fair</th>\n",
       "      <td>791</td>\n",
       "      <td>3.289</td>\n",
       "      <td>2601.82</td>\n",
       "      <td>2.528</td>\n",
       "    </tr>\n",
       "    <tr>\n",
       "      <th rowspan=\"2\" valign=\"top\">1</th>\n",
       "      <th>dequeue_task_fair</th>\n",
       "      <td>96</td>\n",
       "      <td>3.960</td>\n",
       "      <td>380.24</td>\n",
       "      <td>3.462</td>\n",
       "    </tr>\n",
       "    <tr>\n",
       "      <th>enqueue_task_fair</th>\n",
       "      <td>88</td>\n",
       "      <td>2.929</td>\n",
       "      <td>257.80</td>\n",
       "      <td>1.382</td>\n",
       "    </tr>\n",
       "    <tr>\n",
       "      <th rowspan=\"2\" valign=\"top\">2</th>\n",
       "      <th>dequeue_task_fair</th>\n",
       "      <td>191</td>\n",
       "      <td>2.775</td>\n",
       "      <td>530.20</td>\n",
       "      <td>2.693</td>\n",
       "    </tr>\n",
       "    <tr>\n",
       "      <th>enqueue_task_fair</th>\n",
       "      <td>194</td>\n",
       "      <td>2.400</td>\n",
       "      <td>465.62</td>\n",
       "      <td>1.237</td>\n",
       "    </tr>\n",
       "    <tr>\n",
       "      <th rowspan=\"2\" valign=\"top\">3</th>\n",
       "      <th>dequeue_task_fair</th>\n",
       "      <td>282</td>\n",
       "      <td>5.181</td>\n",
       "      <td>1461.24</td>\n",
       "      <td>9.018</td>\n",
       "    </tr>\n",
       "    <tr>\n",
       "      <th>enqueue_task_fair</th>\n",
       "      <td>78</td>\n",
       "      <td>3.766</td>\n",
       "      <td>293.82</td>\n",
       "      <td>4.445</td>\n",
       "    </tr>\n",
       "    <tr>\n",
       "      <th rowspan=\"2\" valign=\"top\">4</th>\n",
       "      <th>dequeue_task_fair</th>\n",
       "      <td>55</td>\n",
       "      <td>3.101</td>\n",
       "      <td>170.60</td>\n",
       "      <td>2.611</td>\n",
       "    </tr>\n",
       "    <tr>\n",
       "      <th>enqueue_task_fair</th>\n",
       "      <td>32</td>\n",
       "      <td>3.203</td>\n",
       "      <td>102.52</td>\n",
       "      <td>2.020</td>\n",
       "    </tr>\n",
       "    <tr>\n",
       "      <th rowspan=\"2\" valign=\"top\">5</th>\n",
       "      <th>dequeue_task_fair</th>\n",
       "      <td>1145</td>\n",
       "      <td>5.705</td>\n",
       "      <td>6532.86</td>\n",
       "      <td>12.424</td>\n",
       "    </tr>\n",
       "    <tr>\n",
       "      <th>enqueue_task_fair</th>\n",
       "      <td>1127</td>\n",
       "      <td>5.332</td>\n",
       "      <td>6009.62</td>\n",
       "      <td>7.407</td>\n",
       "    </tr>\n",
       "  </tbody>\n",
       "</table>\n",
       "</div>"
      ],
      "text/plain": [
       "                     hits    avg     time     s_2\n",
       "0 dequeue_task_fair   534  3.139  1676.40   4.969\n",
       "  enqueue_task_fair   791  3.289  2601.82   2.528\n",
       "1 dequeue_task_fair    96  3.960   380.24   3.462\n",
       "  enqueue_task_fair    88  2.929   257.80   1.382\n",
       "2 dequeue_task_fair   191  2.775   530.20   2.693\n",
       "  enqueue_task_fair   194  2.400   465.62   1.237\n",
       "3 dequeue_task_fair   282  5.181  1461.24   9.018\n",
       "  enqueue_task_fair    78  3.766   293.82   4.445\n",
       "4 dequeue_task_fair    55  3.101   170.60   2.611\n",
       "  enqueue_task_fair    32  3.203   102.52   2.020\n",
       "5 dequeue_task_fair  1145  5.705  6532.86  12.424\n",
       "  enqueue_task_fair  1127  5.332  6009.62   7.407"
      ]
     },
     "execution_count": 10,
     "metadata": {},
     "output_type": "execute_result"
    }
   ],
   "source": [
    "# Get the DataFrame for the specified list of kernel functions\n",
    "df = trace.functions_stats_df(['enqueue_task_fair', 'dequeue_task_fair'])\n",
    "df"
   ]
  },
  {
   "cell_type": "code",
   "execution_count": 11,
   "metadata": {
    "collapsed": false
   },
   "outputs": [
    {
     "data": {
      "text/html": [
       "<div>\n",
       "<table border=\"1\" class=\"dataframe\">\n",
       "  <thead>\n",
       "    <tr style=\"text-align: right;\">\n",
       "      <th></th>\n",
       "      <th></th>\n",
       "      <th>hits</th>\n",
       "      <th>avg</th>\n",
       "      <th>time</th>\n",
       "      <th>s_2</th>\n",
       "    </tr>\n",
       "  </thead>\n",
       "  <tbody>\n",
       "    <tr>\n",
       "      <th>0</th>\n",
       "      <th>select_task_rq_fair</th>\n",
       "      <td>810</td>\n",
       "      <td>9.760</td>\n",
       "      <td>7906.32</td>\n",
       "      <td>52.352</td>\n",
       "    </tr>\n",
       "    <tr>\n",
       "      <th>1</th>\n",
       "      <th>select_task_rq_fair</th>\n",
       "      <td>64</td>\n",
       "      <td>4.512</td>\n",
       "      <td>288.80</td>\n",
       "      <td>16.507</td>\n",
       "    </tr>\n",
       "    <tr>\n",
       "      <th>2</th>\n",
       "      <th>select_task_rq_fair</th>\n",
       "      <td>164</td>\n",
       "      <td>3.560</td>\n",
       "      <td>583.90</td>\n",
       "      <td>13.352</td>\n",
       "    </tr>\n",
       "    <tr>\n",
       "      <th>3</th>\n",
       "      <th>select_task_rq_fair</th>\n",
       "      <td>71</td>\n",
       "      <td>10.311</td>\n",
       "      <td>732.12</td>\n",
       "      <td>65.864</td>\n",
       "    </tr>\n",
       "    <tr>\n",
       "      <th>4</th>\n",
       "      <th>select_task_rq_fair</th>\n",
       "      <td>40</td>\n",
       "      <td>4.777</td>\n",
       "      <td>191.10</td>\n",
       "      <td>29.821</td>\n",
       "    </tr>\n",
       "    <tr>\n",
       "      <th>5</th>\n",
       "      <th>select_task_rq_fair</th>\n",
       "      <td>1015</td>\n",
       "      <td>5.306</td>\n",
       "      <td>5386.04</td>\n",
       "      <td>17.775</td>\n",
       "    </tr>\n",
       "  </tbody>\n",
       "</table>\n",
       "</div>"
      ],
      "text/plain": [
       "                       hits     avg     time     s_2\n",
       "0 select_task_rq_fair   810   9.760  7906.32  52.352\n",
       "1 select_task_rq_fair    64   4.512   288.80  16.507\n",
       "2 select_task_rq_fair   164   3.560   583.90  13.352\n",
       "3 select_task_rq_fair    71  10.311   732.12  65.864\n",
       "4 select_task_rq_fair    40   4.777   191.10  29.821\n",
       "5 select_task_rq_fair  1015   5.306  5386.04  17.775"
      ]
     },
     "execution_count": 11,
     "metadata": {},
     "output_type": "execute_result"
    }
   ],
   "source": [
    "# Get the DataFrame for the single specified kernel function\n",
    "df = trace.functions_stats_df('select_task_rq_fair')\n",
    "df"
   ]
  },
  {
   "cell_type": "markdown",
   "metadata": {},
   "source": [
    "# Plot Functions Profiling Data"
   ]
  },
  {
   "cell_type": "code",
   "execution_count": 12,
   "metadata": {
    "collapsed": false
   },
   "outputs": [
    {
     "data": {
      "image/png": "[encoded data removed]",
      "text/plain": [
       "<matplotlib.figure.Figure at 0x7fc752039e90>"
      ]
     },
     "metadata": {},
     "output_type": "display_data"
    },
    {
     "data": {
      "image/png": "[encoded data removed]",
      "text/plain": [
       "<matplotlib.figure.Figure at 0x7fc7513c7510>"
      ]
     },
     "metadata": {},
     "output_type": "display_data"
    }
   ],
   "source": [
    "# Plot Average and Total execution time for the specified\n",
    "# list of kernel functions\n",
    "ta.plotFunctionStats(\n",
    "    functions = [\n",
    "        'select_task_rq_fair',\n",
    "        'enqueue_task_fair',\n",
    "        'dequeue_task_fair'\n",
    "    ],\n",
    "    metrics = [\n",
    "        'avg',\n",
    "        'time',\n",
    "    ]\n",
    ")"
   ]
  },
  {
   "cell_type": "code",
   "execution_count": 13,
   "metadata": {
    "collapsed": false
   },
   "outputs": [
    {
     "data": {
      "image/png": "[encoded data removed]",
      "text/plain": [
       "<matplotlib.figure.Figure at 0x7fc770202290>"
      ]
     },
     "metadata": {},
     "output_type": "display_data"
    }
   ],
   "source": [
    "# Plot Average execution time for the single specified kernel function\n",
    "ta.plotFunctionStats(\n",
    "    functions = 'update_curr_fair',\n",
    ")"
   ]
  }
 ],
 "metadata": {
  "kernelspec": {
   "display_name": "Python 2",
   "language": "python",
   "name": "python2"
  },
  "language_info": {
   "codemirror_mode": {
    "name": "ipython",
    "version": 2
   },
   "file_extension": ".py",
   "mimetype": "text/x-python",
   "name": "python",
   "nbconvert_exporter": "python",
   "pygments_lexer": "ipython2",
   "version": "2.7.9"
  }
 },
 "nbformat": 4,
 "nbformat_minor": 0
}
